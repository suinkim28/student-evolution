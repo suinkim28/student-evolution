{
 "cells": [
  {
   "cell_type": "markdown",
   "metadata": {},
   "source": [
    "# IMPORT"
   ]
  },
  {
   "cell_type": "code",
   "execution_count": 19,
   "metadata": {
    "collapsed": false
   },
   "outputs": [
    {
     "data": {
      "text/plain": [
       "<module 'config' from '/home/suinkim/elice/elice-research/2016_intermediate_code/config.py'>"
      ]
     },
     "execution_count": 19,
     "metadata": {},
     "output_type": "execute_result"
    }
   ],
   "source": [
    "%matplotlib inline\n",
    "# LOAD SYSTEM MODULES\n",
    "import sys\n",
    "import json\n",
    "from operator import itemgetter\n",
    "\n",
    "# LOAD 3RD PARTY MODULES\n",
    "import pymongo\n",
    "import ottype\n",
    "import psycopg2\n",
    "import matplotlib.pyplot as plt\n",
    "import numpy as np\n",
    "\n",
    "# LOAD CUSTOM MODULES\n",
    "import importlib\n",
    "import config\n",
    "importlib.reload(config)"
   ]
  },
  {
   "cell_type": "markdown",
   "metadata": {},
   "source": [
    "# CONNECT TO DATABASE"
   ]
  },
  {
   "cell_type": "code",
   "execution_count": 12,
   "metadata": {
    "collapsed": true
   },
   "outputs": [],
   "source": [
    "def mongodb_connect():\n",
    "    # CONNECT TO MONGODB\n",
    "    client = pymongo.MongoClient('mongodb://%s:%s@%s/%s?authMechanism=SCRAM-SHA-1' % \\\n",
    "                                 (config.MONGODB['user'],\n",
    "                                  config.MONGODB['password'],\n",
    "                                  config.MONGODB['host'],\n",
    "                                  config.MONGODB['db']), config.MONGODB['port'])\n",
    "    db = client.elice\n",
    "\n",
    "    print(\"=== Collections ===\")\n",
    "    print(\"\\n\".join(db.collection_names()))\n",
    "\n",
    "    return db\n",
    "\n",
    "def postgres_connect():\n",
    "    # CONNECT TO POSTGRESQL\n",
    "    conn = psycopg2.connect(\"host='%s' dbname='%s' user='%s' password='%s'\" % \\\n",
    "                            (config.POSTGRES['host'],\n",
    "                             config.POSTGRES['db'],\n",
    "                             config.POSTGRES['user'],\n",
    "                             config.POSTGRES['password']))\n",
    "    cur = conn.cursor()\n",
    "\n",
    "    return cur"
   ]
  },
  {
   "cell_type": "code",
   "execution_count": 13,
   "metadata": {
    "collapsed": false,
    "scrolled": true
   },
   "outputs": [
    {
     "name": "stdout",
     "output_type": "stream",
     "text": [
      "=== Collections ===\n",
      "exercise_running.outputs\n",
      "usercode_share.docs\n",
      "attachments.files\n",
      "attachments.chunks\n",
      "usercode_share.ops\n",
      "attachments.metafiles\n"
     ]
    }
   ],
   "source": [
    "elice_mongo = mongodb_connect()\n",
    "elice_postgres = postgres_connect()"
   ]
  },
  {
   "cell_type": "markdown",
   "metadata": {},
   "source": [
    "# DEFINE GLOBAL VARIABLES"
   ]
  },
  {
   "cell_type": "code",
   "execution_count": 14,
   "metadata": {
    "collapsed": true
   },
   "outputs": [],
   "source": [
    "user_typed_keystrokes = {}"
   ]
  },
  {
   "cell_type": "markdown",
   "metadata": {},
   "source": [
    "# FETCH LECTURES"
   ]
  },
  {
   "cell_type": "code",
   "execution_count": 22,
   "metadata": {
    "collapsed": true
   },
   "outputs": [],
   "source": [
    "def fetch_metadata(elice_postgres, course_id):\n",
    "    # FETCH LECTURES\n",
    "    elice_postgres.execute(\"\"\"SELECT * FROM LECTURE_MODEL\n",
    "                              WHERE COURSE_ID = %d AND IS_DELETED = False\n",
    "                              ORDER BY ID\"\"\" % \\\n",
    "                           (course_id))\n",
    "    lectures = []\n",
    "    for lecture in elice_postgres.fetchall():\n",
    "        lecture_id = lecture[2]\n",
    "        lecture_title = lecture[4]\n",
    "        # ONLY GET HOMEWORKS\n",
    "        if 'homework' not in lecture_title.lower(): continue\n",
    "        print(\"%d: %s\" % (lecture_id, lecture_title))\n",
    "        lectures.append(lecture)\n",
    "\n",
    "    # LECTURES AND MATERIAL EXERCISES\n",
    "    lecture_materials = []\n",
    "\n",
    "    # FETCH MATERIAL EXERCISES\n",
    "    for lecture in lectures:\n",
    "        lecture_id = lecture[2]\n",
    "        elice_postgres.execute(\"\"\"SELECT material_exercise_model.id, material_exercise_model.title FROM material_exercise_model\n",
    "                                  INNER JOIN lecture_page_order_model\n",
    "                                  ON material_exercise_model.lecture_page_order_id = lecture_page_order_model.id\n",
    "                                  WHERE lecture_page_order_model.lecture_id = %d\n",
    "                                  AND material_exercise_model.is_deleted = False\n",
    "                                  ORDER BY lecture_page_order_model.order_no ASC\"\"\" % \\\n",
    "                                  (lecture_id))\n",
    "\n",
    "        # LIST OF DICTIONARIES\n",
    "        exercises = [{'id': x[0], 'title': x[1]} for x in elice_postgres.fetchall()]\n",
    "\n",
    "        # MATERIAL EXERCISES FOR LECTURE_ID\n",
    "        lecture_materials.append({'id': lecture_id,\n",
    "                                  'title': lecture[4],\n",
    "                                  'exercises': exercises})\n",
    "\n",
    "    print(lecture_materials)\n",
    "    return lecture_materials"
   ]
  },
  {
   "cell_type": "code",
   "execution_count": 23,
   "metadata": {
    "collapsed": false
   },
   "outputs": [
    {
     "data": {
      "text/plain": [
       "{'course_id': 7, 'lecture_id': 58, 'material_exercise_id': 305}"
      ]
     },
     "execution_count": 23,
     "metadata": {},
     "output_type": "execute_result"
    }
   ],
   "source": [
    "config.COURSE"
   ]
  },
  {
   "cell_type": "code",
   "execution_count": 24,
   "metadata": {
    "collapsed": false,
    "scrolled": true
   },
   "outputs": [
    {
     "name": "stdout",
     "output_type": "stream",
     "text": [
      "45: Homework 1\n",
      "57: Homework 2\n",
      "68: Homework 3\n",
      "84: Homework 4\n",
      "94: Homework 5\n",
      "[{'title': 'Homework 1', 'id': 45, 'exercises': [{'title': \"Task1: 'HELLO' in a plain world\", 'id': 227}, {'title': \"Task2: 'HELLO' in a random world\", 'id': 228}]}, {'title': 'Homework 2', 'id': 57, 'exercises': [{'title': 'Task1: Linear-graph', 'id': 359}, {'title': 'Task2: Four-degree-polynomial-graph', 'id': 362}, {'title': 'Task3: Ellipse-graph', 'id': 361}]}, {'title': 'Homework 3', 'id': 68, 'exercises': [{'title': 'Task1 : Answer a question whose words are ordered correctly', 'id': 386}, {'title': 'Task2: Answer a question whose words are randomly shuffled', 'id': 387}, {'title': 'Task3: Answer a question whose words are randomly shuffled, lost and reversed', 'id': 388}, {'title': 'Task4: Answer a question whose words are randomly shuffled, lost and corrupted', 'id': 389}]}, {'title': 'Homework 4', 'id': 84, 'exercises': [{'title': 'HW4 How to Control Hubo Like a Pro', 'id': 418}]}, {'title': 'Homework 5', 'id': 94, 'exercises': [{'title': 'Textbook Search', 'id': 442}]}]\n"
     ]
    }
   ],
   "source": [
    "lecture_materials = fetch_metadata(elice_postgres, course_id=config.COURSE['course_id'])"
   ]
  },
  {
   "cell_type": "markdown",
   "metadata": {},
   "source": [
    "# FETCH DOCUMENT HISTORY"
   ]
  },
  {
   "cell_type": "code",
   "execution_count": 25,
   "metadata": {
    "collapsed": false
   },
   "outputs": [],
   "source": [
    "def fetch_docs(elice_mongo, elice_postgres, lecture_id, material_exercise_id):\n",
    "    # FILTER BY MATERIAL EXERCISE IDS\n",
    "    usercode_docs = elice_mongo['usercode_share.docs'].find({\n",
    "                        'material_exercise_id': material_exercise_id\n",
    "                    })\n",
    "    \n",
    "    for doc in usercode_docs:\n",
    "        user_id = doc['owner_id']\n",
    "        \n",
    "        user_typed_keystrokes.setdefault(user_id, {})\n",
    "        fetch_ops(elice_mongo, doc, lecture_id, user_id)"
   ]
  },
  {
   "cell_type": "code",
   "execution_count": 26,
   "metadata": {
    "collapsed": true
   },
   "outputs": [],
   "source": [
    "def fetch_ops(elice_mongo, doc, lecture_id, user_id): #, user_commits, lecture_id, material_exercise_id, user_id):\n",
    "    # FILTER BY DOCUMENT OBJECT ID\n",
    "    ops = elice_mongo['usercode_share.ops'].find({\n",
    "            'doc_id': doc['_id']\n",
    "          })\n",
    "    \n",
    "    user_typed_keystrokes[user_id].setdefault(lecture_id, [])\n",
    "    \n",
    "    content = doc['content']\n",
    "    for op in ops:\n",
    "        striped_op = op['op']\n",
    "        version = op['version']\n",
    "        version_timestamp = op['created_timestamp']\n",
    "\n",
    "        user_typed_keystrokes[user_id][lecture_id].append({\n",
    "                'doc_id': doc['_id'],\n",
    "                'version': op['version'],\n",
    "                'timestamp': version_timestamp,\n",
    "                'op': striped_op,\n",
    "                'filename': doc['filename'],\n",
    "            })"
   ]
  },
  {
   "cell_type": "markdown",
   "metadata": {},
   "source": [
    "# RUN"
   ]
  },
  {
   "cell_type": "code",
   "execution_count": 28,
   "metadata": {
    "collapsed": false
   },
   "outputs": [
    {
     "name": "stdout",
     "output_type": "stream",
     "text": [
      "Lecture 45\n",
      "  exercise 227\n",
      "  exercise 228\n",
      "Lecture 57\n",
      "  exercise 359\n",
      "  exercise 362\n",
      "  exercise 361\n",
      "Lecture 68\n",
      "  exercise 386\n",
      "  exercise 387\n",
      "  exercise 388\n",
      "  exercise 389\n",
      "Lecture 84\n",
      "  exercise 418\n",
      "Lecture 94\n",
      "  exercise 442\n"
     ]
    }
   ],
   "source": [
    "user_typed_keystrokes = {}\n",
    "for lecture in lecture_materials:\n",
    "    print(\"Lecture %d: %s\" % (lecture['id'], lecture['title']))\n",
    "    for exercise in lecture['exercises']:\n",
    "        print(\"  exercise %d: %s\" % (exercise['id'], exercise['title']))\n",
    "        fetch_docs(elice_mongo, \n",
    "                   elice_postgres, \n",
    "                   lecture['id'], \n",
    "                   exercise['id'])"
   ]
  },
  {
   "cell_type": "markdown",
   "metadata": {},
   "source": [
    "# CALCULATE TYPING SPEED"
   ]
  },
  {
   "cell_type": "code",
   "execution_count": 29,
   "metadata": {
    "collapsed": true
   },
   "outputs": [],
   "source": [
    "ops_speeds = {}"
   ]
  },
  {
   "cell_type": "code",
   "execution_count": 31,
   "metadata": {
    "collapsed": false
   },
   "outputs": [],
   "source": [
    "session_cutoff = 1000 * 60 * 10 # 10 mins\n",
    "\n",
    "for user_id in user_typed_keystrokes:\n",
    "    ops_speeds[user_id] = {}\n",
    "    for lecture_id in user_typed_keystrokes[user_id]:\n",
    "        ops_speeds[user_id][lecture_id] = []\n",
    "        \n",
    "        operations = user_typed_keystrokes[user_id][lecture_id]\n",
    "        \n",
    "        operation_timestamps = [x['timestamp'] for x in operations]\n",
    "        operation_timestamps = sorted(operation_timestamps)\n",
    "        \n",
    "        for i in range(0, len(operation_timestamps) - 1):\n",
    "            difference = operation_timestamps[i + 1] - operation_timestamps[i]\n",
    "\n",
    "            char_diff = 0\n",
    "            num_ops = 0\n",
    "            \n",
    "            for single_op in operations[i + 1]['op'][1:]:\n",
    "                if isinstance(single_op, str):\n",
    "                    char_diff += len(single_op)\n",
    "                elif isinstance(single_op, dict):\n",
    "                    char_diff += len(single_op['d'])\n",
    "                num_ops += 1\n",
    "\n",
    "            if char_diff > 20:\n",
    "                continue\n",
    "            if num_ops == 0:\n",
    "                continue\n",
    "        \n",
    "            difference /= num_ops\n",
    "            \n",
    "            if difference < session_cutoff:\n",
    "                for j in range(num_ops):\n",
    "                    ops_speeds[user_id][lecture_id].append(difference)"
   ]
  },
  {
   "cell_type": "markdown",
   "metadata": {},
   "source": [
    "# VISUALIZE"
   ]
  },
  {
   "cell_type": "code",
   "execution_count": 32,
   "metadata": {
    "collapsed": false,
    "scrolled": true
   },
   "outputs": [
    {
     "name": "stderr",
     "output_type": "stream",
     "text": [
      "/usr/local/lib/python3.5/dist-packages/numpy/core/_methods.py:59: RuntimeWarning: Mean of empty slice.\n",
      "  warnings.warn(\"Mean of empty slice.\", RuntimeWarning)\n",
      "/usr/local/lib/python3.5/dist-packages/numpy/core/_methods.py:70: RuntimeWarning: invalid value encountered in double_scalars\n",
      "  ret = ret.dtype.type(ret / rcount)\n"
     ]
    }
   ],
   "source": [
    "ops_average_speed = {}\n",
    "\n",
    "for user_id in ops_speeds:\n",
    "    if user_id < 0:\n",
    "        continue\n",
    "    \n",
    "    for lecture_id in ops_speeds[user_id]:\n",
    "        avg_diff = np.mean(ops_speeds[user_id][lecture_id])\n",
    "        if np.isnan(avg_diff):\n",
    "            continue\n",
    "        \n",
    "        ops_average_speed.setdefault(lecture_id, [])\n",
    "        ops_average_speed[lecture_id].append(60000 / avg_diff)"
   ]
  },
  {
   "cell_type": "code",
   "execution_count": 37,
   "metadata": {
    "collapsed": false,
    "scrolled": true
   },
   "outputs": [
    {
     "data": {
      "image/png": "[encoded data removed]",
      "text/plain": [
       "<matplotlib.figure.Figure at 0x7f9005ede5c0>"
      ]
     },
     "metadata": {},
     "output_type": "display_data"
    }
   ],
   "source": [
    "X = sorted(ops_average_speed.keys())\n",
    "y_mean = [np.mean(ops_average_speed[x]) for x in X]\n",
    "\n",
    "plt.plot(y_mean)\n",
    "plt.scatter(range(len(y_mean)), y_mean)\n",
    "#plt.errorbar(range(len(y_mean)), y_mean, yerr=[np.std(ops_average_speed[x]) for x in X])\n",
    "plt.title('# editing operations per minute')\n",
    "\n",
    "plt.savefig('results/cs101_opm.png')"
   ]
  },
  {
   "cell_type": "markdown",
   "metadata": {
    "collapsed": true
   },
   "source": [
    "# BYTES EDITED PER SEC"
   ]
  },
  {
   "cell_type": "code",
   "execution_count": 34,
   "metadata": {
    "collapsed": false
   },
   "outputs": [],
   "source": [
    "bps = {}\n",
    "\n",
    "session_cutoff = 1000 * 60 * 10 # 10 mins\n",
    "\n",
    "for user_id in user_typed_keystrokes:\n",
    "    bps[user_id] = {}\n",
    "    for lecture_id in user_typed_keystrokes[user_id]:\n",
    "        bps[user_id][lecture_id] = []\n",
    "        \n",
    "        operations = user_typed_keystrokes[user_id][lecture_id]\n",
    "        \n",
    "        for i in range(1, len(operations)):\n",
    "            op = operations[i]\n",
    "            op_before = operations[i - 1]\n",
    "            striped_op = op['op'][1:]\n",
    "            time_diff = - (op['timestamp'] - op_before['timestamp'])\n",
    "            char_diff = 0\n",
    "            \n",
    "            for single_op in striped_op:                \n",
    "                if isinstance(single_op, str):\n",
    "                    char_diff += len(single_op)\n",
    "                elif isinstance(striped_op, dict):\n",
    "                    char_diff += len(single_op['d'])\n",
    "                    \n",
    "            if char_diff > 10:\n",
    "                continue\n",
    "            \n",
    "            bps[user_id][lecture_id].append(1000 * char_diff / time_diff)"
   ]
  },
  {
   "cell_type": "code",
   "execution_count": 35,
   "metadata": {
    "collapsed": false,
    "scrolled": true
   },
   "outputs": [
    {
     "name": "stderr",
     "output_type": "stream",
     "text": [
      "/usr/local/lib/python3.5/dist-packages/numpy/core/_methods.py:59: RuntimeWarning: Mean of empty slice.\n",
      "  warnings.warn(\"Mean of empty slice.\", RuntimeWarning)\n",
      "/usr/local/lib/python3.5/dist-packages/numpy/core/_methods.py:70: RuntimeWarning: invalid value encountered in double_scalars\n",
      "  ret = ret.dtype.type(ret / rcount)\n"
     ]
    }
   ],
   "source": [
    "ops_average_speed = {}\n",
    "\n",
    "for user_id in ops_speeds:\n",
    "    if user_id < 0:\n",
    "        continue\n",
    "    \n",
    "    for lecture_id in ops_speeds[user_id]:\n",
    "        eps = np.mean(bps[user_id][lecture_id])\n",
    "        if np.isnan(eps):\n",
    "            continue\n",
    "        \n",
    "        ops_average_speed.setdefault(lecture_id, [])\n",
    "        ops_average_speed[lecture_id].append(60 * eps)"
   ]
  },
  {
   "cell_type": "code",
   "execution_count": 36,
   "metadata": {
    "collapsed": false
   },
   "outputs": [
    {
     "data": {
      "text/plain": [
       "<matplotlib.text.Text at 0x7f900583f7b8>"
      ]
     },
     "execution_count": 36,
     "metadata": {},
     "output_type": "execute_result"
    },
    {
     "data": {
      "image/png": "[encoded data removed]",
      "text/plain": [
       "<matplotlib.figure.Figure at 0x7f9005f3e588>"
      ]
     },
     "metadata": {},
     "output_type": "display_data"
    }
   ],
   "source": [
    "X = sorted(ops_average_speed.keys())\n",
    "y_mean = [np.mean(ops_average_speed[x]) for x in X]\n",
    "\n",
    "plt.plot(y_mean)\n",
    "plt.scatter(range(len(y_mean)), y_mean)\n",
    "plt.errorbar(range(len(y_mean)), y_mean, yerr=[np.std(ops_average_speed[x]) for x in X])\n",
    "plt.title('# edited bytes per minute')"
   ]
  },
  {
   "cell_type": "code",
   "execution_count": null,
   "metadata": {
    "collapsed": false
   },
   "outputs": [],
   "source": []
  }
 ],
 "metadata": {
  "kernelspec": {
   "display_name": "Python 3",
   "language": "python",
   "name": "python3"
  },
  "language_info": {
   "codemirror_mode": {
    "name": "ipython",
    "version": 3
   },
   "file_extension": ".py",
   "mimetype": "text/x-python",
   "name": "python",
   "nbconvert_exporter": "python",
   "pygments_lexer": "ipython3",
   "version": "3.5.1+"
  }
 },
 "nbformat": 4,
 "nbformat_minor": 0
}
