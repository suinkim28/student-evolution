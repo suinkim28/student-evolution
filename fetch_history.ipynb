{
 "cells": [
  {
   "cell_type": "markdown",
   "metadata": {},
   "source": [
    "# IMPORT"
   ]
  },
  {
   "cell_type": "code",
   "execution_count": 16,
   "metadata": {
    "collapsed": true
   },
   "outputs": [],
   "source": [
    "# LOAD SYSTEM MODULES\n",
    "import sys\n",
    "import json\n",
    "from operator import itemgetter\n",
    "\n",
    "# LOAD 3RD PARTY MODULES\n",
    "import pymongo\n",
    "import ottype\n",
    "import psycopg2\n",
    "\n",
    "# LOAD CUSTOM MODULES\n",
    "import config"
   ]
  },
  {
   "cell_type": "markdown",
   "metadata": {},
   "source": [
    "# CONNECT TO DATABASE"
   ]
  },
  {
   "cell_type": "code",
   "execution_count": 17,
   "metadata": {
    "collapsed": true
   },
   "outputs": [],
   "source": [
    "def mongodb_connect():\n",
    "    # CONNECT TO MONGODB\n",
    "    client = pymongo.MongoClient('mongodb://%s:%s@%s/%s?authMechanism=SCRAM-SHA-1' % \\\n",
    "                                 (config.MONGODB['user'],\n",
    "                                  config.MONGODB['password'],\n",
    "                                  config.MONGODB['host'],\n",
    "                                  config.MONGODB['db']), config.MONGODB['port'])\n",
    "    db = client.elice\n",
    "\n",
    "    print(\"=== Collections ===\")\n",
    "    print(\"\\n\".join(db.collection_names()))\n",
    "\n",
    "    return db\n",
    "\n",
    "def postgres_connect():\n",
    "    # CONNECT TO POSTGRESQL\n",
    "    conn = psycopg2.connect(\"host='%s' dbname='%s' user='%s' password='%s'\" % \\\n",
    "                            (config.POSTGRES['host'],\n",
    "                             config.POSTGRES['db'],\n",
    "                             config.POSTGRES['user'],\n",
    "                             config.POSTGRES['password']))\n",
    "    cur = conn.cursor()\n",
    "\n",
    "    return cur"
   ]
  },
  {
   "cell_type": "code",
   "execution_count": 18,
   "metadata": {
    "collapsed": false,
    "scrolled": true
   },
   "outputs": [
    {
     "name": "stdout",
     "output_type": "stream",
     "text": [
      "=== Collections ===\n",
      "exercise_running.outputs\n",
      "usercode_share.docs\n",
      "attachments.files\n",
      "attachments.chunks\n",
      "usercode_share.ops\n",
      "attachments.metafiles\n"
     ]
    }
   ],
   "source": [
    "elice_mongo = mongodb_connect()\n",
    "elice_postgres = postgres_connect()"
   ]
  },
  {
   "cell_type": "markdown",
   "metadata": {},
   "source": [
    "# DEFINE GLOBAL VARIABLES"
   ]
  },
  {
   "cell_type": "code",
   "execution_count": 19,
   "metadata": {
    "collapsed": true
   },
   "outputs": [],
   "source": [
    "global_user_timestamps = {}\n",
    "global_user_chars_modified = {}\n",
    "global_user_files = {}\n",
    "global_doc_histories = {}"
   ]
  },
  {
   "cell_type": "markdown",
   "metadata": {},
   "source": [
    "# FETCH LECTURES"
   ]
  },
  {
   "cell_type": "code",
   "execution_count": 20,
   "metadata": {
    "collapsed": true
   },
   "outputs": [],
   "source": [
    "def fetch_metadata(elice_postgres, course_id):\n",
    "    # FETCH LECTURES\n",
    "    elice_postgres.execute(\"\"\"SELECT * FROM LECTURE_MODEL\n",
    "                              WHERE COURSE_ID = %d AND IS_DELETED = False\n",
    "                              ORDER BY ID\"\"\" % \\\n",
    "                           (course_id))\n",
    "    lectures = []\n",
    "    for lecture in elice_postgres.fetchall():\n",
    "        lecture_id = lecture[2]\n",
    "        lecture_title = lecture[4]\n",
    "        if 'homework' not in lecture_title.lower(): continue\n",
    "        print(\"%d: %s\" % (lecture_id, lecture_title))\n",
    "        lectures.append(lecture)\n",
    "\n",
    "    # LECTURES AND MATERIAL EXERCISES\n",
    "    lecture_materials = []\n",
    "\n",
    "    # FETCH MATERIAL EXERCISES\n",
    "    for lecture in lectures:\n",
    "        lecture_id = lecture[2]\n",
    "        elice_postgres.execute(\"\"\"SELECT material_exercise_model.id, material_exercise_model.title FROM material_exercise_model\n",
    "                                  INNER JOIN lecture_page_order_model\n",
    "                                  ON material_exercise_model.lecture_page_order_id = lecture_page_order_model.id\n",
    "                                  WHERE lecture_page_order_model.lecture_id = %d\n",
    "                                  AND material_exercise_model.is_deleted = False\n",
    "                                  ORDER BY lecture_page_order_model.order_no ASC\"\"\" % \\\n",
    "                                  (lecture_id))\n",
    "\n",
    "        # LIST OF DICTIONARIES\n",
    "        exercises = [{'id': x[0], 'title': x[1]} for x in elice_postgres.fetchall()]\n",
    "\n",
    "        # MATERIAL EXERCISES FOR LECTURE_ID\n",
    "        lecture_materials.append({'id': lecture_id,\n",
    "                                  'title': lecture[4],\n",
    "                                  'exercises': exercises})\n",
    "\n",
    "    print(lecture_materials)\n",
    "    return lecture_materials"
   ]
  },
  {
   "cell_type": "code",
   "execution_count": 21,
   "metadata": {
    "collapsed": false
   },
   "outputs": [
    {
     "name": "stdout",
     "output_type": "stream",
     "text": [
      "24: Homework 0 (Due 2016-03-15 23:59)\n",
      "41: Homework 1 (Due 2016-04-01 23:59)\n",
      "58: Homework 2 (Due: April 14, 23:59)\n",
      "65: Homework 3 (Due: May 5 23:59)\n",
      "70: HOMEWORK 4 (DUE: MAY 22 23:59)\n",
      "80: Homework 5 (DUE: Jun. 7 23:59)\n",
      "[{'title': 'Homework 0 (Due 2016-03-15 23:59)', 'exercises': [{'title': 'Hello', 'id': 96}, {'title': 'Character Frequency', 'id': 97}, {'title': 'Sum over Even Numbers', 'id': 98}, {'title': 'Reverse the Sentences', 'id': 99}, {'title': 'Number of Islands', 'id': 103}], 'id': 24}, {'title': 'Homework 1 (Due 2016-04-01 23:59)', 'exercises': [{'title': 'Singly Linked List', 'id': 137}, {'title': 'Operations Using Singly Linked List', 'id': 138}, {'title': 'Fibonacci', 'id': 139}, {'title': 'Count Steps', 'id': 141}, {'title': 'Multiple Recursion', 'id': 142}], 'id': 41}, {'title': 'Homework 2 (Due: April 14, 23:59)', 'exercises': [{'title': 'Merge Blocks', 'id': 305}, {'title': 'Stack Calculator (1)', 'id': 306}, {'title': 'Stack Calculator (2)', 'id': 307}, {'title': 'Stack Calculator (3)', 'id': 308}, {'title': 'Breadth First Search (1)', 'id': 309}, {'title': 'Breadth First Search (2)', 'id': 310}], 'id': 58}, {'title': 'Homework 3 (Due: May 5 23:59)', 'exercises': [{'title': 'Tree Symmetry', 'id': 377}, {'title': 'Tree Pachinko', 'id': 378}, {'title': 'Pachinko Hacking', 'id': 380}, {'title': 'Robust Binary Tree', 'id': 376}], 'id': 65}, {'title': 'HOMEWORK 4 (DUE: MAY 22 23:59)', 'exercises': [{'title': 'BST Sequence', 'id': 393}, {'title': 'Coin Picking Game', 'id': 390}, {'title': 'Process Queue', 'id': 394}, {'title': 'Process Scheduling', 'id': 395}, {'title': 'Meeting Time Scheduling', 'id': 396}], 'id': 70}, {'title': 'Homework 5 (DUE: Jun. 7 23:59)', 'exercises': [{'title': 'Find Highest Affinity Pair', 'id': 409}, {'title': 'Implement Mergesort In-place', 'id': 410}, {'title': 'Compute a Salary Threshold', 'id': 414}, {'title': 'Find the Longest Subarray Whose Sum =< k', 'id': 415}], 'id': 80}]\n"
     ]
    }
   ],
   "source": [
    "lecture_materials = fetch_metadata(elice_postgres, course_id=config.COURSE['course_id'])"
   ]
  },
  {
   "cell_type": "code",
   "execution_count": 7,
   "metadata": {
    "collapsed": false
   },
   "outputs": [
    {
     "data": {
      "text/plain": [
       "{'exercises': [{'id': 305, 'title': 'Merge Blocks'},\n",
       "  {'id': 306, 'title': 'Stack Calculator (1)'},\n",
       "  {'id': 307, 'title': 'Stack Calculator (2)'},\n",
       "  {'id': 308, 'title': 'Stack Calculator (3)'},\n",
       "  {'id': 309, 'title': 'Breadth First Search (1)'},\n",
       "  {'id': 310, 'title': 'Breadth First Search (2)'}],\n",
       " 'id': 58,\n",
       " 'title': 'Homework 2 (Due: April 14, 23:59)'}"
      ]
     },
     "execution_count": 7,
     "metadata": {},
     "output_type": "execute_result"
    }
   ],
   "source": [
    "lecture_materials[2]"
   ]
  },
  {
   "cell_type": "markdown",
   "metadata": {},
   "source": [
    "# FETCH DOCUMENT HISTORY"
   ]
  },
  {
   "cell_type": "code",
   "execution_count": 8,
   "metadata": {
    "collapsed": false
   },
   "outputs": [],
   "source": [
    "def fetch_docs(elice_mongo, elice_postgres, lecture_id, material_exercise_id):\n",
    "    # FILTER BY MATERIAL EXERCISE IDS\n",
    "    usercode_docs = elice_mongo['usercode_share.docs'].find({\n",
    "                        'material_exercise_id': material_exercise_id\n",
    "                    })\n",
    "    \n",
    "    all_users = set()\n",
    "    \n",
    "    for doc in usercode_docs:\n",
    "        user_id = doc['owner_id']\n",
    "        all_users.add(user_id)\n",
    "        \n",
    "        global_user_files.setdefault(lecture_id, {})\n",
    "        global_user_files[lecture_id].setdefault(material_exercise_id, {})\n",
    "        global_user_files[lecture_id][material_exercise_id][user_id] = {}\n",
    "        fetch_ops(elice_mongo, doc, user_id)\n",
    "        \n",
    "    for user_id in all_users:\n",
    "        user_commits = elice_postgres.execute( \\\n",
    "                         \"\"\"\n",
    "                         SELECT T1.created_datetime, T1.input_data, T1.is_commit, T2.auto_score FROM EXERCISE_RUNNING_LOG_MODEL T1\n",
    "                         INNER JOIN EXERCISE_RUNNING_RESULT_LOG_MODEL T2\n",
    "                         ON T2.exercise_running_id = T1.id\n",
    "                         WHERE\n",
    "                         T1.user_id = %d\n",
    "                         AND T1.material_exercise_id = %d\n",
    "                         ORDER BY T1.created_datetime desc\n",
    "                         \"\"\" % (user_id, material_exercise_id))\n",
    "        user_commits = elice_postgres.fetchall()\n",
    "        doc_histories = global_doc_histories[user_id]\n",
    "        \n",
    "        commit_histories = []\n",
    "        for user_commit in user_commits:\n",
    "            commit_histories.append({\n",
    "                    'type': 'commit',\n",
    "                    'timestamp': user_commit[0],\n",
    "                    'instance': user_commit\n",
    "                })\n",
    "        for doc in doc_histories:\n",
    "            commit_histories.append({\n",
    "                    'type': 'doc',\n",
    "                    'timestamp': doc['timestamp'],\n",
    "                    'instance': doc\n",
    "                })\n",
    "        \n",
    "        commit_histories = sorted(commit_histories, key=itemgetter('timestamp'))\n",
    "        \n",
    "        current_doc = {}\n",
    "        last_version = 0\n",
    "        \n",
    "        for h in commit_histories:\n",
    "            inst = h['instance']\n",
    "            if h['type'] == 'doc':\n",
    "                current_doc[inst['filename']] = inst['content']\n",
    "                last_version = inst['version']\n",
    "            else:\n",
    "                global_user_files[lecture_id][material_exercise_id][user_id][last_version] = {\n",
    "                        'files': current_doc,\n",
    "                        'commit': inst\n",
    "                    }"
   ]
  },
  {
   "cell_type": "code",
   "execution_count": 9,
   "metadata": {
    "collapsed": true
   },
   "outputs": [],
   "source": [
    "def fetch_ops(elice_mongo, doc, user_id): #, user_commits, lecture_id, material_exercise_id, user_id):\n",
    "    # FILTER BY DOCUMENT OBJECT ID\n",
    "    ops = elice_mongo['usercode_share.ops'].find({\n",
    "            'doc_id': doc['_id']\n",
    "          })\n",
    "    \n",
    "    global_doc_histories.setdefault(user_id, [])\n",
    "    global_doc_histories[user_id].append({\n",
    "            'doc_id': doc['_id'],\n",
    "            'version': doc['version'],\n",
    "            'timestamp': doc['modified_timestamp'],\n",
    "            'filename': doc['filename'],\n",
    "            'content': doc['content']\n",
    "        })\n",
    "    \n",
    "    content = doc['content']\n",
    "    for op in ops:\n",
    "        striped_op = op['op']\n",
    "        version = op['version']\n",
    "        content = ottype.inverse_apply(content, striped_op)\n",
    "        version_timestamp = op['created_timestamp']\n",
    "\n",
    "        global_doc_histories[user_id].append({\n",
    "                'doc_id': doc['_id'],\n",
    "                'version': op['version'],\n",
    "                'timestamp': version_timestamp,\n",
    "                'filename': doc['filename'],\n",
    "                'content': content\n",
    "            })"
   ]
  },
  {
   "cell_type": "markdown",
   "metadata": {},
   "source": [
    "# RUN"
   ]
  },
  {
   "cell_type": "code",
   "execution_count": 10,
   "metadata": {
    "collapsed": false
   },
   "outputs": [],
   "source": [
    "global_doc_histories = {}\n",
    "fetch_docs(elice_mongo, elice_postgres, config.COURSE['lecture_id'], config.COURSE['material_exercise_id'])"
   ]
  },
  {
   "cell_type": "markdown",
   "metadata": {},
   "source": [
    "# FETCH OPs"
   ]
  },
  {
   "cell_type": "code",
   "execution_count": 71,
   "metadata": {
    "collapsed": true
   },
   "outputs": [],
   "source": [
    "_docs = {}"
   ]
  },
  {
   "cell_type": "code",
   "execution_count": 72,
   "metadata": {
    "collapsed": true
   },
   "outputs": [],
   "source": [
    "def fetch_docs_get_ops(elice_mongo, elice_postgres, lecture_id, material_exercise_id):\n",
    "    # FILTER BY MATERIAL EXERCISE IDS\n",
    "    usercode_docs = elice_mongo['usercode_share.docs'].find({\n",
    "                        'material_exercise_id': material_exercise_id\n",
    "                    })\n",
    "        \n",
    "    for doc in usercode_docs:    \n",
    "        user_id = doc['owner_id']\n",
    "        \n",
    "        _docs.setdefault(lecture_id, {})\n",
    "        _docs[lecture_id].setdefault(material_exercise_id, {})\n",
    "        _docs[lecture_id][material_exercise_id].setdefault(user_id, {})\n",
    "        _docs[lecture_id][material_exercise_id][user_id].setdefault(doc['filename'], {})\n",
    "        _docs[lecture_id][material_exercise_id][user_id][doc['filename']]['doc'] = {\n",
    "            'content': doc['content'],\n",
    "            'filename': doc['filename'],\n",
    "            'version': doc['version']\n",
    "        }\n",
    "        _docs[lecture_id][material_exercise_id][user_id][doc['filename']]['ops'] = fetch_ops(elice_mongo, doc, user_id)\n",
    "\n",
    "def fetch_ops(elice_mongo, doc, user_id): #, user_commits, lecture_id, material_exercise_id, user_id):\n",
    "    # FILTER BY DOCUMENT OBJECT ID\n",
    "    ops = elice_mongo['usercode_share.ops'].find({\n",
    "            'doc_id': doc['_id']\n",
    "          })\n",
    "    \n",
    "    ret_ops = []\n",
    "        \n",
    "    for op in ops:\n",
    "        striped_op = op['op']\n",
    "        version = op['version']\n",
    "        version_timestamp = op['created_timestamp']\n",
    "\n",
    "        ret_ops.append({\n",
    "                'op': op['op'],\n",
    "                'version': op['version'],\n",
    "                'timestamp': version_timestamp,\n",
    "                'filename': doc['filename']\n",
    "            })\n",
    "        \n",
    "    \n",
    "    return ret_ops"
   ]
  },
  {
   "cell_type": "code",
   "execution_count": 73,
   "metadata": {
    "collapsed": false
   },
   "outputs": [],
   "source": [
    "for lecture in lecture_materials:\n",
    "    for exercise in lecture['exercises']:\n",
    "        fetch_docs_get_ops(elice_mongo, elice_postgres, lecture['id'], exercise['id'])"
   ]
  },
  {
   "cell_type": "code",
   "execution_count": 47,
   "metadata": {
    "collapsed": false,
    "scrolled": true
   },
   "outputs": [
    {
     "data": {
      "text/plain": [
       "[{'exercises': [{'id': 96, 'title': 'Hello'},\n",
       "   {'id': 97, 'title': 'Character Frequency'},\n",
       "   {'id': 98, 'title': 'Sum over Even Numbers'},\n",
       "   {'id': 99, 'title': 'Reverse the Sentences'},\n",
       "   {'id': 103, 'title': 'Number of Islands'}],\n",
       "  'id': 24,\n",
       "  'title': 'Homework 0 (Due 2016-03-15 23:59)'},\n",
       " {'exercises': [{'id': 137, 'title': 'Singly Linked List'},\n",
       "   {'id': 138, 'title': 'Operations Using Singly Linked List'},\n",
       "   {'id': 139, 'title': 'Fibonacci'},\n",
       "   {'id': 141, 'title': 'Count Steps'},\n",
       "   {'id': 142, 'title': 'Multiple Recursion'}],\n",
       "  'id': 41,\n",
       "  'title': 'Homework 1 (Due 2016-04-01 23:59)'},\n",
       " {'exercises': [{'id': 305, 'title': 'Merge Blocks'},\n",
       "   {'id': 306, 'title': 'Stack Calculator (1)'},\n",
       "   {'id': 307, 'title': 'Stack Calculator (2)'},\n",
       "   {'id': 308, 'title': 'Stack Calculator (3)'},\n",
       "   {'id': 309, 'title': 'Breadth First Search (1)'},\n",
       "   {'id': 310, 'title': 'Breadth First Search (2)'}],\n",
       "  'id': 58,\n",
       "  'title': 'Homework 2 (Due: April 14, 23:59)'},\n",
       " {'exercises': [{'id': 377, 'title': 'Tree Symmetry'},\n",
       "   {'id': 378, 'title': 'Tree Pachinko'},\n",
       "   {'id': 380, 'title': 'Pachinko Hacking'},\n",
       "   {'id': 376, 'title': 'Robust Binary Tree'}],\n",
       "  'id': 65,\n",
       "  'title': 'Homework 3 (Due: May 5 23:59)'},\n",
       " {'exercises': [{'id': 393, 'title': 'BST Sequence'},\n",
       "   {'id': 390, 'title': 'Coin Picking Game'},\n",
       "   {'id': 394, 'title': 'Process Queue'},\n",
       "   {'id': 395, 'title': 'Process Scheduling'},\n",
       "   {'id': 396, 'title': 'Meeting Time Scheduling'}],\n",
       "  'id': 70,\n",
       "  'title': 'HOMEWORK 4 (DUE: MAY 22 23:59)'},\n",
       " {'exercises': [{'id': 409, 'title': 'Find Highest Affinity Pair'},\n",
       "   {'id': 410, 'title': 'Implement Mergesort In-place'},\n",
       "   {'id': 414, 'title': 'Compute a Salary Threshold'},\n",
       "   {'id': 415, 'title': 'Find the Longest Subarray Whose Sum =< k'}],\n",
       "  'id': 80,\n",
       "  'title': 'Homework 5 (DUE: Jun. 7 23:59)'}]"
      ]
     },
     "execution_count": 47,
     "metadata": {},
     "output_type": "execute_result"
    }
   ],
   "source": [
    "lecture_materials"
   ]
  },
  {
   "cell_type": "code",
   "execution_count": 74,
   "metadata": {
    "collapsed": false
   },
   "outputs": [],
   "source": [
    "import json\n",
    "\n",
    "with open('lecture_materials.json', 'w') as fp:\n",
    "    json.dump(lecture_materials, fp)\n",
    "\n",
    "with open('ops.json', 'w') as fp:\n",
    "    json.dump(_docs, fp)"
   ]
  },
  {
   "cell_type": "code",
   "execution_count": 12,
   "metadata": {
    "collapsed": false,
    "scrolled": true
   },
   "outputs": [
    {
     "data": {
      "text/plain": [
       "{0: {'commit': (1459406636620, '', False, None),\n",
       "  'files': {'cs206c/Main.java': 'package cs206c;\\n\\nimport cs206c.Block;\\nimport java.io.*;\\nimport java.util.*;\\n\\npublic class Main {\\n\\n\\tpublic static void main(String args[]) {\\n\\t\\t// Get the list of blocks\\n\\t\\tList<Block> blocks = readBlocks();\\n\\n\\t\\t// Merge the blocks\\n\\t\\tList<Block> mergedBlocks = mergeBlocks(blocks);\\n\\n\\t\\t// Print the merged blocks\\n\\t\\tprintBlocks(mergedBlocks);\\n\\t}\\n\\n\\t// Problem 1\\n\\t// DO NOT MODIFY THE FUNCTION DECLARATION\\n\\tpublic static List<Block> readBlocks() {\\n\\t\\t// Implement here\\n    List<Block> blocks = new ArrayList<Block>();\\n    Scanner in = new Scanner(System.in);\\n\\n    while (in.hasNextLine()) {\\n      String[] splitted = in.nextLine().split(\" \");\\n      if (splitted.length != 2) {\\n        continue;\\n      }\\n      int start = Integer.parseInt(splitted[0]);\\n      int end = Integer.parseInt(splitted[1]);\\n      Block block = new Block(start, end);\\n      \\n      blocks.add(block);\\n    }\\n    \\n\\t\\treturn blocks;\\n\\t}\\n\\n\\t// Problem 2\\n\\t// DO NOT MODIFY THE FUNCTION DECLARATION\\n\\tpublic static List<Block> mergeBlocks(List<Block> blocks) {\\n  \\t// Implement here\\n\\n  \\t\\n\\t  Collections.sort(blocks, new Comparator<Block>() {\\n        public int compare(Block o1, Block o2) {\\n          if (o1.start != o2.start) {\\n            return o1.start - o2.start;\\n          } else {\\n            return o1.end - o2.end;\\n          }\\n        }\\n    });\\n    \\n\\t\\tList<Block> mergedBlocks = new ArrayList<Block>();\\n\\t\\tfor (Block block : blocks) {\\n\\t\\t  if (mergedBlocks.size() == 0) {\\n\\t\\t    mergedBlocks.add(block);\\n\\t\\t  } else {\\n\\t\\t    Block lastBlock = mergedBlocks.get(mergedBlocks.size() - 1);\\n\\t\\t    if (lastBlock.end >= block.start) {\\n\\t\\t      lastBlock = mergedBlocks.remove(mergedBlocks.size() - 1);\\n\\t\\t      int lastBlockEnd = lastBlock.end;\\n\\t\\t      if (lastBlockEnd < block.end) lastBlockEnd = block.end;\\n\\t\\t      mergedBlocks.add(new Block(lastBlock.start, lastBlockEnd));\\n\\t\\t    } else {\\n\\t\\t      mergedBlocks.add(block);\\n\\t\\t    }\\n\\t\\t  }\\n\\t\\t}\\n\\t\\t\\n\\t\\treturn mergedBlocks;\\n\\t}\\n\\n\\tpublic static void printBlocks(List<Block> blocks) {\\n\\t\\tfor (Block block : blocks) {\\n\\t\\t\\tSystem.out.format(\"[%d - %d]\\\\n\", block.start, block.end);\\n\\t\\t}\\n\\t}\\n}\\n'}},\n",
       " 1: {'commit': (1459520479612,\n",
       "   '85 89\\r\\n111 118\\r\\n85 94\\r\\n192 202\\r\\n94 104\\r\\n8 12\\r\\n102 111\\r\\n55 63\\r\\n173 175\\r\\n100 108\\r\\n135 144\\r\\n11 12\\r\\n86 96\\r\\n15 22\\r\\n105 110\\r\\n122 131\\r\\n109 110\\r\\n142 147\\r\\n184 188\\r\\n98 105\\r\\n',\n",
       "   False,\n",
       "   None),\n",
       "  'files': {'cs206c/Main.java': 'package cs206c;\\n\\nimport cs206c.Block;\\nimport java.io.*;\\nimport java.util.*;\\n\\npublic class Main {\\n\\n\\tpublic static void main(String args[]) {\\n\\t\\t// Get the list of blocks\\n\\t\\tList<Block> blocks = readBlocks();\\n\\n\\t\\t// Merge the blocks\\n\\t\\tList<Block> mergedBlocks = mergeBlocks(blocks);\\n\\n\\t\\t// Print the merged blocks\\n\\t\\tprintBlocks(mergedBlocks);\\n\\t}\\n\\n\\t// Problem 1\\n\\t// DO NOT MODIFY THE FUNCTION DECLARATION\\n\\tpublic static List<Block> readBlocks() {\\n\\t\\t// Implement here\\n    List<Block> blocks = new ArrayList<Block>();\\n    Scanner in = new Scanner(System.in);\\n\\n    while (in.hasNextLine()) {\\n      String[] splitted = in.nextLine().split(\" \");\\n      if (splitted.length != 2) {\\n        continue;\\n      }\\n      int start = Integer.parseInt(splitted[0]);\\n      int end = Integer.parseInt(splitted[1]);\\n      Block block = new Block(start, end);\\n      \\n      blocks.add(block);\\n    }\\n    \\n\\t\\treturn blocks;\\n\\t}\\n\\n\\t// Problem 2\\n\\t// DO NOT MODIFY THE FUNCTION DECLARATION\\n\\tpublic static List<Block> mergeBlocks(List<Block> blocks) {\\n  \\t// Implement here\\n\\n  \\t\\n\\t  Collections.sort(blocks, new Comparator<Block>() {\\n        public int compare(Block o1, Block o2) {\\n          if (o1.start != o2.start) {\\n            return o1.start - o2.start;\\n          } else {\\n            return o1.end - o2.end;\\n          }\\n        }\\n    });\\n    \\n\\t\\tList<Block> mergedBlocks = new ArrayList<Block>();\\n\\t\\tfor (Block block : blocks) {\\n\\t\\t  if (mergedBlocks.size() == 0) {\\n\\t\\t    mergedBlocks.add(block);\\n\\t\\t  } else {\\n\\t\\t    Block lastBlock = mergedBlocks.get(mergedBlocks.size() - 1);\\n\\t\\t    if (lastBlock.end >= block.start) {\\n\\t\\t      lastBlock = mergedBlocks.remove(mergedBlocks.size() - 1);\\n\\t\\t      int lastBlockEnd = lastBlock.end;\\n\\t\\t      if (lastBlockEnd < block.end) lastBlockEnd = block.end;\\n\\t\\t      mergedBlocks.add(new Block(lastBlock.start, lastBlockEnd));\\n\\t\\t    } else {\\n\\t\\t      mergedBlocks.add(block);\\n\\t\\t    }\\n\\t\\t  }\\n\\t\\t}\\n\\t\\t\\n\\t\\treturn mergedBlocks;\\n\\t}\\n\\n\\tpublic static void printBlocks(List<Block> blocks) {\\n\\t\\tfor (Block block : blocks) {\\n\\t\\t\\tSystem.out.format(\"[%d - %d]\\\\n\", block.start, block.end);\\n\\t\\t}\\n\\t}\\n}\\n'}},\n",
       " 33: {'commit': (1459520554333,\n",
       "   '85 89\\r\\n111 118\\r\\n85 94\\r\\n192 202\\r\\n94 104\\r\\n8 12\\r\\n102 111\\r\\n55 63\\r\\n173 175\\r\\n100 108\\r\\n135 144\\r\\n11 12\\r\\n86 96\\r\\n15 22\\r\\n105 110\\r\\n122 131\\r\\n109 110\\r\\n142 147\\r\\n184 188\\r\\n98 105\\r\\n',\n",
       "   False,\n",
       "   None),\n",
       "  'files': {'cs206c/Main.java': 'package cs206c;\\n\\nimport cs206c.Block;\\nimport java.io.*;\\nimport java.util.*;\\n\\npublic class Main {\\n\\n\\tpublic static void main(String args[]) {\\n\\t\\t// Get the list of blocks\\n\\t\\tList<Block> blocks = readBlocks();\\n\\n\\t\\t// Merge the blocks\\n\\t\\tList<Block> mergedBlocks = mergeBlocks(blocks);\\n\\n\\t\\t// Print the merged blocks\\n\\t\\tprintBlocks(mergedBlocks);\\n\\t}\\n\\n\\t// Problem 1\\n\\t// DO NOT MODIFY THE FUNCTION DECLARATION\\n\\tpublic static List<Block> readBlocks() {\\n\\t\\t// Implement here\\n    List<Block> blocks = new ArrayList<Block>();\\n    Scanner in = new Scanner(System.in);\\n\\n    while (in.hasNextLine()) {\\n      String[] splitted = in.nextLine().split(\" \");\\n      if (splitted.length != 2) {\\n        continue;\\n      }\\n      int start = Integer.parseInt(splitted[0]);\\n      int end = Integer.parseInt(splitted[1]);\\n      Block block = new Block(start, end);\\n      \\n      blocks.add(block);\\n    }\\n    \\n\\t\\treturn blocks;\\n\\t}\\n\\n\\t// Problem 2\\n\\t// DO NOT MODIFY THE FUNCTION DECLARATION\\n\\tpublic static List<Block> mergeBlocks(List<Block> blocks) {\\n  \\t// Implement here\\n\\n  \\t\\n\\t  Collections.sort(blocks, new Comparator<Block>() {\\n        public int compare(Block o1, Block o2) {\\n          if (o1.start != o2.start) {\\n            return o1.start - o2.start;\\n          } else {\\n            return o1.end - o2.end;\\n          }\\n        }\\n    });\\n    \\n\\t\\tList<Block> mergedBlocks = new ArrayList<Block>();\\n\\t\\tfor (Block block : blocks) {\\n\\t\\t  if (mergedBlocks.size() == 0) {\\n\\t\\t    mergedBlocks.add(block);\\n\\t\\t  } else {\\n\\t\\t    Block lastBlock = mergedBlocks.get(mergedBlocks.size() - 1);\\n\\t\\t    if (lastBlock.end >= block.start) {\\n\\t\\t      lastBlock = mergedBlocks.remove(mergedBlocks.size() - 1);\\n\\t\\t      int lastBlockEnd = lastBlock.end;\\n\\t\\t      if (lastBlockEnd < block.end) lastBlockEnd = block.end;\\n\\t\\t      mergedBlocks.add(new Block(lastBlock.start, lastBlockEnd));\\n\\t\\t    } else {\\n\\t\\t      mergedBlocks.add(block);\\n\\t\\t    }\\n\\t\\t  }\\n\\t\\t}\\n\\t\\t\\n\\t\\treturn mergedBlocks;\\n\\t}\\n\\n\\tpublic static void printBlocks(List<Block> blocks) {\\n\\t\\tfor (Block block : blocks) {\\n\\t\\t\\tSystem.out.format(\"[%d - %d]\\\\n\", block.start, block.end);\\n\\t\\t}\\n\\t}\\n}\\n'}},\n",
       " 43: {'commit': (1459520589950,\n",
       "   '85 89\\r\\n111 118\\r\\n85 94\\r\\n192 202\\r\\n94 104\\r\\n8 12\\r\\n102 111\\r\\n55 63\\r\\n173 175\\r\\n100 108\\r\\n135 144\\r\\n11 12\\r\\n86 96\\r\\n15 22\\r\\n105 110\\r\\n122 131\\r\\n109 110\\r\\n142 147\\r\\n184 188\\r\\n98 105\\r\\n',\n",
       "   False,\n",
       "   None),\n",
       "  'files': {'cs206c/Main.java': 'package cs206c;\\n\\nimport cs206c.Block;\\nimport java.io.*;\\nimport java.util.*;\\n\\npublic class Main {\\n\\n\\tpublic static void main(String args[]) {\\n\\t\\t// Get the list of blocks\\n\\t\\tList<Block> blocks = readBlocks();\\n\\n\\t\\t// Merge the blocks\\n\\t\\tList<Block> mergedBlocks = mergeBlocks(blocks);\\n\\n\\t\\t// Print the merged blocks\\n\\t\\tprintBlocks(mergedBlocks);\\n\\t}\\n\\n\\t// Problem 1\\n\\t// DO NOT MODIFY THE FUNCTION DECLARATION\\n\\tpublic static List<Block> readBlocks() {\\n\\t\\t// Implement here\\n    List<Block> blocks = new ArrayList<Block>();\\n    Scanner in = new Scanner(System.in);\\n\\n    while (in.hasNextLine()) {\\n      String[] splitted = in.nextLine().split(\" \");\\n      if (splitted.length != 2) {\\n        continue;\\n      }\\n      int start = Integer.parseInt(splitted[0]);\\n      int end = Integer.parseInt(splitted[1]);\\n      Block block = new Block(start, end);\\n      \\n      blocks.add(block);\\n    }\\n    \\n\\t\\treturn blocks;\\n\\t}\\n\\n\\t// Problem 2\\n\\t// DO NOT MODIFY THE FUNCTION DECLARATION\\n\\tpublic static List<Block> mergeBlocks(List<Block> blocks) {\\n  \\t// Implement here\\n\\n  \\t\\n\\t  Collections.sort(blocks, new Comparator<Block>() {\\n        public int compare(Block o1, Block o2) {\\n          if (o1.start != o2.start) {\\n            return o1.start - o2.start;\\n          } else {\\n            return o1.end - o2.end;\\n          }\\n        }\\n    });\\n    \\n\\t\\tList<Block> mergedBlocks = new ArrayList<Block>();\\n\\t\\tfor (Block block : blocks) {\\n\\t\\t  if (mergedBlocks.size() == 0) {\\n\\t\\t    mergedBlocks.add(block);\\n\\t\\t  } else {\\n\\t\\t    Block lastBlock = mergedBlocks.get(mergedBlocks.size() - 1);\\n\\t\\t    if (lastBlock.end >= block.start) {\\n\\t\\t      lastBlock = mergedBlocks.remove(mergedBlocks.size() - 1);\\n\\t\\t      int lastBlockEnd = lastBlock.end;\\n\\t\\t      if (lastBlockEnd < block.end) lastBlockEnd = block.end;\\n\\t\\t      mergedBlocks.add(new Block(lastBlock.start, lastBlockEnd));\\n\\t\\t    } else {\\n\\t\\t      mergedBlocks.add(block);\\n\\t\\t    }\\n\\t\\t  }\\n\\t\\t}\\n\\t\\t\\n\\t\\treturn mergedBlocks;\\n\\t}\\n\\n\\tpublic static void printBlocks(List<Block> blocks) {\\n\\t\\tfor (Block block : blocks) {\\n\\t\\t\\tSystem.out.format(\"[%d - %d]\\\\n\", block.start, block.end);\\n\\t\\t}\\n\\t}\\n}\\n'}},\n",
       " 149: {'commit': (1459520681921,\n",
       "   '85 89\\r\\n111 118\\r\\n85 94\\r\\n192 202\\r\\n94 104\\r\\n8 12\\r\\n102 111\\r\\n55 63\\r\\n173 175\\r\\n100 108\\r\\n135 144\\r\\n11 12\\r\\n86 96\\r\\n15 22\\r\\n105 110\\r\\n122 131\\r\\n109 110\\r\\n142 147\\r\\n184 188\\r\\n98 105\\r\\n',\n",
       "   False,\n",
       "   None),\n",
       "  'files': {'cs206c/Main.java': 'package cs206c;\\n\\nimport cs206c.Block;\\nimport java.io.*;\\nimport java.util.*;\\n\\npublic class Main {\\n\\n\\tpublic static void main(String args[]) {\\n\\t\\t// Get the list of blocks\\n\\t\\tList<Block> blocks = readBlocks();\\n\\n\\t\\t// Merge the blocks\\n\\t\\tList<Block> mergedBlocks = mergeBlocks(blocks);\\n\\n\\t\\t// Print the merged blocks\\n\\t\\tprintBlocks(mergedBlocks);\\n\\t}\\n\\n\\t// Problem 1\\n\\t// DO NOT MODIFY THE FUNCTION DECLARATION\\n\\tpublic static List<Block> readBlocks() {\\n\\t\\t// Implement here\\n    List<Block> blocks = new ArrayList<Block>();\\n    Scanner in = new Scanner(System.in);\\n\\n    while (in.hasNextLine()) {\\n      String[] splitted = in.nextLine().split(\" \");\\n      if (splitted.length != 2) {\\n        continue;\\n      }\\n      int start = Integer.parseInt(splitted[0]);\\n      int end = Integer.parseInt(splitted[1]);\\n      Block block = new Block(start, end);\\n      \\n      blocks.add(block);\\n    }\\n    \\n\\t\\treturn blocks;\\n\\t}\\n\\n\\t// Problem 2\\n\\t// DO NOT MODIFY THE FUNCTION DECLARATION\\n\\tpublic static List<Block> mergeBlocks(List<Block> blocks) {\\n  \\t// Implement here\\n\\n  \\t\\n\\t  Collections.sort(blocks, new Comparator<Block>() {\\n        public int compare(Block o1, Block o2) {\\n          if (o1.start != o2.start) {\\n            return o1.start - o2.start;\\n          } else {\\n            return o1.end - o2.end;\\n          }\\n        }\\n    });\\n    \\n\\t\\tList<Block> mergedBlocks = new ArrayList<Block>();\\n\\t\\tfor (Block block : blocks) {\\n\\t\\t  if (mergedBlocks.size() == 0) {\\n\\t\\t    mergedBlocks.add(block);\\n\\t\\t  } else {\\n\\t\\t    Block lastBlock = mergedBlocks.get(mergedBlocks.size() - 1);\\n\\t\\t    if (lastBlock.end >= block.start) {\\n\\t\\t      lastBlock = mergedBlocks.remove(mergedBlocks.size() - 1);\\n\\t\\t      int lastBlockEnd = lastBlock.end;\\n\\t\\t      if (lastBlockEnd < block.end) lastBlockEnd = block.end;\\n\\t\\t      mergedBlocks.add(new Block(lastBlock.start, lastBlockEnd));\\n\\t\\t    } else {\\n\\t\\t      mergedBlocks.add(block);\\n\\t\\t    }\\n\\t\\t  }\\n\\t\\t}\\n\\t\\t\\n\\t\\treturn mergedBlocks;\\n\\t}\\n\\n\\tpublic static void printBlocks(List<Block> blocks) {\\n\\t\\tfor (Block block : blocks) {\\n\\t\\t\\tSystem.out.format(\"[%d - %d]\\\\n\", block.start, block.end);\\n\\t\\t}\\n\\t}\\n}\\n'}},\n",
       " 150: {'commit': (1459520699762,\n",
       "   '85 89\\r\\n111 118\\r\\n85 94\\r\\n192 202\\r\\n94 104\\r\\n8 12\\r\\n102 111\\r\\n55 63\\r\\n173 175\\r\\n100 108\\r\\n135 144\\r\\n11 12\\r\\n86 96\\r\\n15 22\\r\\n105 110\\r\\n122 131\\r\\n109 110\\r\\n142 147\\r\\n184 188\\r\\n98 105\\r\\n',\n",
       "   False,\n",
       "   None),\n",
       "  'files': {'cs206c/Main.java': 'package cs206c;\\n\\nimport cs206c.Block;\\nimport java.io.*;\\nimport java.util.*;\\n\\npublic class Main {\\n\\n\\tpublic static void main(String args[]) {\\n\\t\\t// Get the list of blocks\\n\\t\\tList<Block> blocks = readBlocks();\\n\\n\\t\\t// Merge the blocks\\n\\t\\tList<Block> mergedBlocks = mergeBlocks(blocks);\\n\\n\\t\\t// Print the merged blocks\\n\\t\\tprintBlocks(mergedBlocks);\\n\\t}\\n\\n\\t// Problem 1\\n\\t// DO NOT MODIFY THE FUNCTION DECLARATION\\n\\tpublic static List<Block> readBlocks() {\\n\\t\\t// Implement here\\n    List<Block> blocks = new ArrayList<Block>();\\n    Scanner in = new Scanner(System.in);\\n\\n    while (in.hasNextLine()) {\\n      String[] splitted = in.nextLine().split(\" \");\\n      if (splitted.length != 2) {\\n        continue;\\n      }\\n      int start = Integer.parseInt(splitted[0]);\\n      int end = Integer.parseInt(splitted[1]);\\n      Block block = new Block(start, end);\\n      \\n      blocks.add(block);\\n    }\\n    \\n\\t\\treturn blocks;\\n\\t}\\n\\n\\t// Problem 2\\n\\t// DO NOT MODIFY THE FUNCTION DECLARATION\\n\\tpublic static List<Block> mergeBlocks(List<Block> blocks) {\\n  \\t// Implement here\\n\\n  \\t\\n\\t  Collections.sort(blocks, new Comparator<Block>() {\\n        public int compare(Block o1, Block o2) {\\n          if (o1.start != o2.start) {\\n            return o1.start - o2.start;\\n          } else {\\n            return o1.end - o2.end;\\n          }\\n        }\\n    });\\n    \\n\\t\\tList<Block> mergedBlocks = new ArrayList<Block>();\\n\\t\\tfor (Block block : blocks) {\\n\\t\\t  if (mergedBlocks.size() == 0) {\\n\\t\\t    mergedBlocks.add(block);\\n\\t\\t  } else {\\n\\t\\t    Block lastBlock = mergedBlocks.get(mergedBlocks.size() - 1);\\n\\t\\t    if (lastBlock.end >= block.start) {\\n\\t\\t      lastBlock = mergedBlocks.remove(mergedBlocks.size() - 1);\\n\\t\\t      int lastBlockEnd = lastBlock.end;\\n\\t\\t      if (lastBlockEnd < block.end) lastBlockEnd = block.end;\\n\\t\\t      mergedBlocks.add(new Block(lastBlock.start, lastBlockEnd));\\n\\t\\t    } else {\\n\\t\\t      mergedBlocks.add(block);\\n\\t\\t    }\\n\\t\\t  }\\n\\t\\t}\\n\\t\\t\\n\\t\\treturn mergedBlocks;\\n\\t}\\n\\n\\tpublic static void printBlocks(List<Block> blocks) {\\n\\t\\tfor (Block block : blocks) {\\n\\t\\t\\tSystem.out.format(\"[%d - %d]\\\\n\", block.start, block.end);\\n\\t\\t}\\n\\t}\\n}\\n'}},\n",
       " 212: {'commit': (1459520825369, None, True, 125),\n",
       "  'files': {'cs206c/Main.java': 'package cs206c;\\n\\nimport cs206c.Block;\\nimport java.io.*;\\nimport java.util.*;\\n\\npublic class Main {\\n\\n\\tpublic static void main(String args[]) {\\n\\t\\t// Get the list of blocks\\n\\t\\tList<Block> blocks = readBlocks();\\n\\n\\t\\t// Merge the blocks\\n\\t\\tList<Block> mergedBlocks = mergeBlocks(blocks);\\n\\n\\t\\t// Print the merged blocks\\n\\t\\tprintBlocks(mergedBlocks);\\n\\t}\\n\\n\\t// Problem 1\\n\\t// DO NOT MODIFY THE FUNCTION DECLARATION\\n\\tpublic static List<Block> readBlocks() {\\n\\t\\t// Implement here\\n    List<Block> blocks = new ArrayList<Block>();\\n    Scanner in = new Scanner(System.in);\\n\\n    while (in.hasNextLine()) {\\n      String[] splitted = in.nextLine().split(\" \");\\n      if (splitted.length != 2) {\\n        continue;\\n      }\\n      int start = Integer.parseInt(splitted[0]);\\n      int end = Integer.parseInt(splitted[1]);\\n      Block block = new Block(start, end);\\n      \\n      blocks.add(block);\\n    }\\n    \\n\\t\\treturn blocks;\\n\\t}\\n\\n\\t// Problem 2\\n\\t// DO NOT MODIFY THE FUNCTION DECLARATION\\n\\tpublic static List<Block> mergeBlocks(List<Block> blocks) {\\n  \\t// Implement here\\n\\n  \\t\\n\\t  Collections.sort(blocks, new Comparator<Block>() {\\n        public int compare(Block o1, Block o2) {\\n          if (o1.start != o2.start) {\\n            return o1.start - o2.start;\\n          } else {\\n            return o1.end - o2.end;\\n          }\\n        }\\n    });\\n    \\n\\t\\tList<Block> mergedBlocks = new ArrayList<Block>();\\n\\t\\tfor (Block block : blocks) {\\n\\t\\t  if (mergedBlocks.size() == 0) {\\n\\t\\t    mergedBlocks.add(block);\\n\\t\\t  } else {\\n\\t\\t    Block lastBlock = mergedBlocks.get(mergedBlocks.size() - 1);\\n\\t\\t    if (lastBlock.end >= block.start) {\\n\\t\\t      lastBlock = mergedBlocks.remove(mergedBlocks.size() - 1);\\n\\t\\t      int lastBlockEnd = lastBlock.end;\\n\\t\\t      if (lastBlockEnd < block.end) lastBlockEnd = block.end;\\n\\t\\t      mergedBlocks.add(new Block(lastBlock.start, lastBlockEnd));\\n\\t\\t    } else {\\n\\t\\t      mergedBlocks.add(block);\\n\\t\\t    }\\n\\t\\t  }\\n\\t\\t}\\n\\t\\t\\n\\t\\treturn mergedBlocks;\\n\\t}\\n\\n\\tpublic static void printBlocks(List<Block> blocks) {\\n\\t\\tfor (Block block : blocks) {\\n\\t\\t\\tSystem.out.format(\"[%d - %d]\\\\n\", block.start, block.end);\\n\\t\\t}\\n\\t}\\n}\\n'}},\n",
       " 213: {'commit': (1459520862346, None, True, 0),\n",
       "  'files': {'cs206c/Main.java': 'package cs206c;\\n\\nimport cs206c.Block;\\nimport java.io.*;\\nimport java.util.*;\\n\\npublic class Main {\\n\\n\\tpublic static void main(String args[]) {\\n\\t\\t// Get the list of blocks\\n\\t\\tList<Block> blocks = readBlocks();\\n\\n\\t\\t// Merge the blocks\\n\\t\\tList<Block> mergedBlocks = mergeBlocks(blocks);\\n\\n\\t\\t// Print the merged blocks\\n\\t\\tprintBlocks(mergedBlocks);\\n\\t}\\n\\n\\t// Problem 1\\n\\t// DO NOT MODIFY THE FUNCTION DECLARATION\\n\\tpublic static List<Block> readBlocks() {\\n\\t\\t// Implement here\\n    List<Block> blocks = new ArrayList<Block>();\\n    Scanner in = new Scanner(System.in);\\n\\n    while (in.hasNextLine()) {\\n      String[] splitted = in.nextLine().split(\" \");\\n      if (splitted.length != 2) {\\n        continue;\\n      }\\n      int start = Integer.parseInt(splitted[0]);\\n      int end = Integer.parseInt(splitted[1]);\\n      Block block = new Block(start, end);\\n      \\n      blocks.add(block);\\n    }\\n    \\n\\t\\treturn blocks;\\n\\t}\\n\\n\\t// Problem 2\\n\\t// DO NOT MODIFY THE FUNCTION DECLARATION\\n\\tpublic static List<Block> mergeBlocks(List<Block> blocks) {\\n  \\t// Implement here\\n\\n  \\t\\n\\t  Collections.sort(blocks, new Comparator<Block>() {\\n        public int compare(Block o1, Block o2) {\\n          if (o1.start != o2.start) {\\n            return o1.start - o2.start;\\n          } else {\\n            return o1.end - o2.end;\\n          }\\n        }\\n    });\\n    \\n\\t\\tList<Block> mergedBlocks = new ArrayList<Block>();\\n\\t\\tfor (Block block : blocks) {\\n\\t\\t  if (mergedBlocks.size() == 0) {\\n\\t\\t    mergedBlocks.add(block);\\n\\t\\t  } else {\\n\\t\\t    Block lastBlock = mergedBlocks.get(mergedBlocks.size() - 1);\\n\\t\\t    if (lastBlock.end >= block.start) {\\n\\t\\t      lastBlock = mergedBlocks.remove(mergedBlocks.size() - 1);\\n\\t\\t      int lastBlockEnd = lastBlock.end;\\n\\t\\t      if (lastBlockEnd < block.end) lastBlockEnd = block.end;\\n\\t\\t      mergedBlocks.add(new Block(lastBlock.start, lastBlockEnd));\\n\\t\\t    } else {\\n\\t\\t      mergedBlocks.add(block);\\n\\t\\t    }\\n\\t\\t  }\\n\\t\\t}\\n\\t\\t\\n\\t\\treturn mergedBlocks;\\n\\t}\\n\\n\\tpublic static void printBlocks(List<Block> blocks) {\\n\\t\\tfor (Block block : blocks) {\\n\\t\\t\\tSystem.out.format(\"[%d - %d]\\\\n\", block.start, block.end);\\n\\t\\t}\\n\\t}\\n}\\n'}},\n",
       " 214: {'commit': (1459520895696, None, True, 125),\n",
       "  'files': {'cs206c/Main.java': 'package cs206c;\\n\\nimport cs206c.Block;\\nimport java.io.*;\\nimport java.util.*;\\n\\npublic class Main {\\n\\n\\tpublic static void main(String args[]) {\\n\\t\\t// Get the list of blocks\\n\\t\\tList<Block> blocks = readBlocks();\\n\\n\\t\\t// Merge the blocks\\n\\t\\tList<Block> mergedBlocks = mergeBlocks(blocks);\\n\\n\\t\\t// Print the merged blocks\\n\\t\\tprintBlocks(mergedBlocks);\\n\\t}\\n\\n\\t// Problem 1\\n\\t// DO NOT MODIFY THE FUNCTION DECLARATION\\n\\tpublic static List<Block> readBlocks() {\\n\\t\\t// Implement here\\n    List<Block> blocks = new ArrayList<Block>();\\n    Scanner in = new Scanner(System.in);\\n\\n    while (in.hasNextLine()) {\\n      String[] splitted = in.nextLine().split(\" \");\\n      if (splitted.length != 2) {\\n        continue;\\n      }\\n      int start = Integer.parseInt(splitted[0]);\\n      int end = Integer.parseInt(splitted[1]);\\n      Block block = new Block(start, end);\\n      \\n      blocks.add(block);\\n    }\\n    \\n\\t\\treturn blocks;\\n\\t}\\n\\n\\t// Problem 2\\n\\t// DO NOT MODIFY THE FUNCTION DECLARATION\\n\\tpublic static List<Block> mergeBlocks(List<Block> blocks) {\\n  \\t// Implement here\\n\\n  \\t\\n\\t  Collections.sort(blocks, new Comparator<Block>() {\\n        public int compare(Block o1, Block o2) {\\n          if (o1.start != o2.start) {\\n            return o1.start - o2.start;\\n          } else {\\n            return o1.end - o2.end;\\n          }\\n        }\\n    });\\n    \\n\\t\\tList<Block> mergedBlocks = new ArrayList<Block>();\\n\\t\\tfor (Block block : blocks) {\\n\\t\\t  if (mergedBlocks.size() == 0) {\\n\\t\\t    mergedBlocks.add(block);\\n\\t\\t  } else {\\n\\t\\t    Block lastBlock = mergedBlocks.get(mergedBlocks.size() - 1);\\n\\t\\t    if (lastBlock.end >= block.start) {\\n\\t\\t      lastBlock = mergedBlocks.remove(mergedBlocks.size() - 1);\\n\\t\\t      int lastBlockEnd = lastBlock.end;\\n\\t\\t      if (lastBlockEnd < block.end) lastBlockEnd = block.end;\\n\\t\\t      mergedBlocks.add(new Block(lastBlock.start, lastBlockEnd));\\n\\t\\t    } else {\\n\\t\\t      mergedBlocks.add(block);\\n\\t\\t    }\\n\\t\\t  }\\n\\t\\t}\\n\\t\\t\\n\\t\\treturn mergedBlocks;\\n\\t}\\n\\n\\tpublic static void printBlocks(List<Block> blocks) {\\n\\t\\tfor (Block block : blocks) {\\n\\t\\t\\tSystem.out.format(\"[%d - %d]\\\\n\", block.start, block.end);\\n\\t\\t}\\n\\t}\\n}\\n'}},\n",
       " 215: {'commit': (1459672765674, None, True, None),\n",
       "  'files': {'cs206c/Main.java': 'package cs206c;\\n\\nimport cs206c.Block;\\nimport java.io.*;\\nimport java.util.*;\\n\\npublic class Main {\\n\\n\\tpublic static void main(String args[]) {\\n\\t\\t// Get the list of blocks\\n\\t\\tList<Block> blocks = readBlocks();\\n\\n\\t\\t// Merge the blocks\\n\\t\\tList<Block> mergedBlocks = mergeBlocks(blocks);\\n\\n\\t\\t// Print the merged blocks\\n\\t\\tprintBlocks(mergedBlocks);\\n\\t}\\n\\n\\t// Problem 1\\n\\t// DO NOT MODIFY THE FUNCTION DECLARATION\\n\\tpublic static List<Block> readBlocks() {\\n\\t\\t// Implement here\\n    List<Block> blocks = new ArrayList<Block>();\\n    Scanner in = new Scanner(System.in);\\n\\n    while (in.hasNextLine()) {\\n      String[] splitted = in.nextLine().split(\" \");\\n      if (splitted.length != 2) {\\n        continue;\\n      }\\n      int start = Integer.parseInt(splitted[0]);\\n      int end = Integer.parseInt(splitted[1]);\\n      Block block = new Block(start, end);\\n      \\n      blocks.add(block);\\n    }\\n    \\n\\t\\treturn blocks;\\n\\t}\\n\\n\\t// Problem 2\\n\\t// DO NOT MODIFY THE FUNCTION DECLARATION\\n\\tpublic static List<Block> mergeBlocks(List<Block> blocks) {\\n  \\t// Implement here\\n\\n  \\t\\n\\t  Collections.sort(blocks, new Comparator<Block>() {\\n        public int compare(Block o1, Block o2) {\\n          if (o1.start != o2.start) {\\n            return o1.start - o2.start;\\n          } else {\\n            return o1.end - o2.end;\\n          }\\n        }\\n    });\\n    \\n\\t\\tList<Block> mergedBlocks = new ArrayList<Block>();\\n\\t\\tfor (Block block : blocks) {\\n\\t\\t  if (mergedBlocks.size() == 0) {\\n\\t\\t    mergedBlocks.add(block);\\n\\t\\t  } else {\\n\\t\\t    Block lastBlock = mergedBlocks.get(mergedBlocks.size() - 1);\\n\\t\\t    if (lastBlock.end >= block.start) {\\n\\t\\t      lastBlock = mergedBlocks.remove(mergedBlocks.size() - 1);\\n\\t\\t      int lastBlockEnd = lastBlock.end;\\n\\t\\t      if (lastBlockEnd < block.end) lastBlockEnd = block.end;\\n\\t\\t      mergedBlocks.add(new Block(lastBlock.start, lastBlockEnd));\\n\\t\\t    } else {\\n\\t\\t      mergedBlocks.add(block);\\n\\t\\t    }\\n\\t\\t  }\\n\\t\\t}\\n\\t\\t\\n\\t\\treturn mergedBlocks;\\n\\t}\\n\\n\\tpublic static void printBlocks(List<Block> blocks) {\\n\\t\\tfor (Block block : blocks) {\\n\\t\\t\\tSystem.out.format(\"[%d - %d]\\\\n\", block.start, block.end);\\n\\t\\t}\\n\\t}\\n}\\n'}},\n",
       " 217: {'commit': (1460012687307, None, True, 125),\n",
       "  'files': {'cs206c/Main.java': 'package cs206c;\\n\\nimport cs206c.Block;\\nimport java.io.*;\\nimport java.util.*;\\n\\npublic class Main {\\n\\n\\tpublic static void main(String args[]) {\\n\\t\\t// Get the list of blocks\\n\\t\\tList<Block> blocks = readBlocks();\\n\\n\\t\\t// Merge the blocks\\n\\t\\tList<Block> mergedBlocks = mergeBlocks(blocks);\\n\\n\\t\\t// Print the merged blocks\\n\\t\\tprintBlocks(mergedBlocks);\\n\\t}\\n\\n\\t// Problem 1\\n\\t// DO NOT MODIFY THE FUNCTION DECLARATION\\n\\tpublic static List<Block> readBlocks() {\\n\\t\\t// Implement here\\n    List<Block> blocks = new ArrayList<Block>();\\n    Scanner in = new Scanner(System.in);\\n\\n    while (in.hasNextLine()) {\\n      String[] splitted = in.nextLine().split(\" \");\\n      if (splitted.length != 2) {\\n        continue;\\n      }\\n      int start = Integer.parseInt(splitted[0]);\\n      int end = Integer.parseInt(splitted[1]);\\n      Block block = new Block(start, end);\\n      \\n      blocks.add(block);\\n    }\\n    \\n\\t\\treturn blocks;\\n\\t}\\n\\n\\t// Problem 2\\n\\t// DO NOT MODIFY THE FUNCTION DECLARATION\\n\\tpublic static List<Block> mergeBlocks(List<Block> blocks) {\\n  \\t// Implement here\\n\\n  \\t\\n\\t  Collections.sort(blocks, new Comparator<Block>() {\\n        public int compare(Block o1, Block o2) {\\n          if (o1.start != o2.start) {\\n            return o1.start - o2.start;\\n          } else {\\n            return o1.end - o2.end;\\n          }\\n        }\\n    });\\n    \\n\\t\\tList<Block> mergedBlocks = new ArrayList<Block>();\\n\\t\\tfor (Block block : blocks) {\\n\\t\\t  if (mergedBlocks.size() == 0) {\\n\\t\\t    mergedBlocks.add(block);\\n\\t\\t  } else {\\n\\t\\t    Block lastBlock = mergedBlocks.get(mergedBlocks.size() - 1);\\n\\t\\t    if (lastBlock.end >= block.start) {\\n\\t\\t      lastBlock = mergedBlocks.remove(mergedBlocks.size() - 1);\\n\\t\\t      int lastBlockEnd = lastBlock.end;\\n\\t\\t      if (lastBlockEnd < block.end) lastBlockEnd = block.end;\\n\\t\\t      mergedBlocks.add(new Block(lastBlock.start, lastBlockEnd));\\n\\t\\t    } else {\\n\\t\\t      mergedBlocks.add(block);\\n\\t\\t    }\\n\\t\\t  }\\n\\t\\t}\\n\\t\\t\\n\\t\\treturn mergedBlocks;\\n\\t}\\n\\n\\tpublic static void printBlocks(List<Block> blocks) {\\n\\t\\tfor (Block block : blocks) {\\n\\t\\t\\tSystem.out.format(\"[%d - %d]\\\\n\", block.start, block.end);\\n\\t\\t}\\n\\t}\\n}\\n'}},\n",
       " 218: {'commit': (1460013207124, None, True, None),\n",
       "  'files': {'cs206c/Main.java': 'package cs206c;\\n\\nimport cs206c.Block;\\nimport java.io.*;\\nimport java.util.*;\\n\\npublic class Main {\\n\\n\\tpublic static void main(String args[]) {\\n\\t\\t// Get the list of blocks\\n\\t\\tList<Block> blocks = readBlocks();\\n\\n\\t\\t// Merge the blocks\\n\\t\\tList<Block> mergedBlocks = mergeBlocks(blocks);\\n\\n\\t\\t// Print the merged blocks\\n\\t\\tprintBlocks(mergedBlocks);\\n\\t}\\n\\n\\t// Problem 1\\n\\t// DO NOT MODIFY THE FUNCTION DECLARATION\\n\\tpublic static List<Block> readBlocks() {\\n\\t\\t// Implement here\\n    List<Block> blocks = new ArrayList<Block>();\\n    Scanner in = new Scanner(System.in);\\n\\n    while (in.hasNextLine()) {\\n      String[] splitted = in.nextLine().split(\" \");\\n      if (splitted.length != 2) {\\n        continue;\\n      }\\n      int start = Integer.parseInt(splitted[0]);\\n      int end = Integer.parseInt(splitted[1]);\\n      Block block = new Block(start, end);\\n      \\n      blocks.add(block);\\n    }\\n    \\n\\t\\treturn blocks;\\n\\t}\\n\\n\\t// Problem 2\\n\\t// DO NOT MODIFY THE FUNCTION DECLARATION\\n\\tpublic static List<Block> mergeBlocks(List<Block> blocks) {\\n  \\t// Implement here\\n\\n  \\t\\n\\t  Collections.sort(blocks, new Comparator<Block>() {\\n        public int compare(Block o1, Block o2) {\\n          if (o1.start != o2.start) {\\n            return o1.start - o2.start;\\n          } else {\\n            return o1.end - o2.end;\\n          }\\n        }\\n    });\\n    \\n\\t\\tList<Block> mergedBlocks = new ArrayList<Block>();\\n\\t\\tfor (Block block : blocks) {\\n\\t\\t  if (mergedBlocks.size() == 0) {\\n\\t\\t    mergedBlocks.add(block);\\n\\t\\t  } else {\\n\\t\\t    Block lastBlock = mergedBlocks.get(mergedBlocks.size() - 1);\\n\\t\\t    if (lastBlock.end >= block.start) {\\n\\t\\t      lastBlock = mergedBlocks.remove(mergedBlocks.size() - 1);\\n\\t\\t      int lastBlockEnd = lastBlock.end;\\n\\t\\t      if (lastBlockEnd < block.end) lastBlockEnd = block.end;\\n\\t\\t      mergedBlocks.add(new Block(lastBlock.start, lastBlockEnd));\\n\\t\\t    } else {\\n\\t\\t      mergedBlocks.add(block);\\n\\t\\t    }\\n\\t\\t  }\\n\\t\\t}\\n\\t\\t\\n\\t\\treturn mergedBlocks;\\n\\t}\\n\\n\\tpublic static void printBlocks(List<Block> blocks) {\\n\\t\\tfor (Block block : blocks) {\\n\\t\\t\\tSystem.out.format(\"[%d - %d]\\\\n\", block.start, block.end);\\n\\t\\t}\\n\\t}\\n}\\n'}},\n",
       " 258: {'commit': (1460013237440, None, True, 125),\n",
       "  'files': {'cs206c/Main.java': 'package cs206c;\\n\\nimport cs206c.Block;\\nimport java.io.*;\\nimport java.util.*;\\n\\npublic class Main {\\n\\n\\tpublic static void main(String args[]) {\\n\\t\\t// Get the list of blocks\\n\\t\\tList<Block> blocks = readBlocks();\\n\\n\\t\\t// Merge the blocks\\n\\t\\tList<Block> mergedBlocks = mergeBlocks(blocks);\\n\\n\\t\\t// Print the merged blocks\\n\\t\\tprintBlocks(mergedBlocks);\\n\\t}\\n\\n\\t// Problem 1\\n\\t// DO NOT MODIFY THE FUNCTION DECLARATION\\n\\tpublic static List<Block> readBlocks() {\\n\\t\\t// Implement here\\n    List<Block> blocks = new ArrayList<Block>();\\n    Scanner in = new Scanner(System.in);\\n\\n    while (in.hasNextLine()) {\\n      String[] splitted = in.nextLine().split(\" \");\\n      if (splitted.length != 2) {\\n        continue;\\n      }\\n      int start = Integer.parseInt(splitted[0]);\\n      int end = Integer.parseInt(splitted[1]);\\n      Block block = new Block(start, end);\\n      \\n      blocks.add(block);\\n    }\\n    \\n\\t\\treturn blocks;\\n\\t}\\n\\n\\t// Problem 2\\n\\t// DO NOT MODIFY THE FUNCTION DECLARATION\\n\\tpublic static List<Block> mergeBlocks(List<Block> blocks) {\\n  \\t// Implement here\\n\\n  \\t\\n\\t  Collections.sort(blocks, new Comparator<Block>() {\\n        public int compare(Block o1, Block o2) {\\n          if (o1.start != o2.start) {\\n            return o1.start - o2.start;\\n          } else {\\n            return o1.end - o2.end;\\n          }\\n        }\\n    });\\n    \\n\\t\\tList<Block> mergedBlocks = new ArrayList<Block>();\\n\\t\\tfor (Block block : blocks) {\\n\\t\\t  if (mergedBlocks.size() == 0) {\\n\\t\\t    mergedBlocks.add(block);\\n\\t\\t  } else {\\n\\t\\t    Block lastBlock = mergedBlocks.get(mergedBlocks.size() - 1);\\n\\t\\t    if (lastBlock.end >= block.start) {\\n\\t\\t      lastBlock = mergedBlocks.remove(mergedBlocks.size() - 1);\\n\\t\\t      int lastBlockEnd = lastBlock.end;\\n\\t\\t      if (lastBlockEnd < block.end) lastBlockEnd = block.end;\\n\\t\\t      mergedBlocks.add(new Block(lastBlock.start, lastBlockEnd));\\n\\t\\t    } else {\\n\\t\\t      mergedBlocks.add(block);\\n\\t\\t    }\\n\\t\\t  }\\n\\t\\t}\\n\\t\\t\\n\\t\\treturn mergedBlocks;\\n\\t}\\n\\n\\tpublic static void printBlocks(List<Block> blocks) {\\n\\t\\tfor (Block block : blocks) {\\n\\t\\t\\tSystem.out.format(\"[%d - %d]\\\\n\", block.start, block.end);\\n\\t\\t}\\n\\t}\\n}\\n'}},\n",
       " 264: {'commit': (1460013259271, None, True, 0),\n",
       "  'files': {'cs206c/Main.java': 'package cs206c;\\n\\nimport cs206c.Block;\\nimport java.io.*;\\nimport java.util.*;\\n\\npublic class Main {\\n\\n\\tpublic static void main(String args[]) {\\n\\t\\t// Get the list of blocks\\n\\t\\tList<Block> blocks = readBlocks();\\n\\n\\t\\t// Merge the blocks\\n\\t\\tList<Block> mergedBlocks = mergeBlocks(blocks);\\n\\n\\t\\t// Print the merged blocks\\n\\t\\tprintBlocks(mergedBlocks);\\n\\t}\\n\\n\\t// Problem 1\\n\\t// DO NOT MODIFY THE FUNCTION DECLARATION\\n\\tpublic static List<Block> readBlocks() {\\n\\t\\t// Implement here\\n    List<Block> blocks = new ArrayList<Block>();\\n    Scanner in = new Scanner(System.in);\\n\\n    while (in.hasNextLine()) {\\n      String[] splitted = in.nextLine().split(\" \");\\n      if (splitted.length != 2) {\\n        continue;\\n      }\\n      int start = Integer.parseInt(splitted[0]);\\n      int end = Integer.parseInt(splitted[1]);\\n      Block block = new Block(start, end);\\n      \\n      blocks.add(block);\\n    }\\n    \\n\\t\\treturn blocks;\\n\\t}\\n\\n\\t// Problem 2\\n\\t// DO NOT MODIFY THE FUNCTION DECLARATION\\n\\tpublic static List<Block> mergeBlocks(List<Block> blocks) {\\n  \\t// Implement here\\n\\n  \\t\\n\\t  Collections.sort(blocks, new Comparator<Block>() {\\n        public int compare(Block o1, Block o2) {\\n          if (o1.start != o2.start) {\\n            return o1.start - o2.start;\\n          } else {\\n            return o1.end - o2.end;\\n          }\\n        }\\n    });\\n    \\n\\t\\tList<Block> mergedBlocks = new ArrayList<Block>();\\n\\t\\tfor (Block block : blocks) {\\n\\t\\t  if (mergedBlocks.size() == 0) {\\n\\t\\t    mergedBlocks.add(block);\\n\\t\\t  } else {\\n\\t\\t    Block lastBlock = mergedBlocks.get(mergedBlocks.size() - 1);\\n\\t\\t    if (lastBlock.end >= block.start) {\\n\\t\\t      lastBlock = mergedBlocks.remove(mergedBlocks.size() - 1);\\n\\t\\t      int lastBlockEnd = lastBlock.end;\\n\\t\\t      if (lastBlockEnd < block.end) lastBlockEnd = block.end;\\n\\t\\t      mergedBlocks.add(new Block(lastBlock.start, lastBlockEnd));\\n\\t\\t    } else {\\n\\t\\t      mergedBlocks.add(block);\\n\\t\\t    }\\n\\t\\t  }\\n\\t\\t}\\n\\t\\t\\n\\t\\treturn mergedBlocks;\\n\\t}\\n\\n\\tpublic static void printBlocks(List<Block> blocks) {\\n\\t\\tfor (Block block : blocks) {\\n\\t\\t\\tSystem.out.format(\"[%d - %d]\\\\n\", block.start, block.end);\\n\\t\\t}\\n\\t}\\n}\\n'}},\n",
       " 267: {'commit': (1460013325132, '', False, None),\n",
       "  'files': {'cs206c/Main.java': 'package cs206c;\\n\\nimport cs206c.Block;\\nimport java.io.*;\\nimport java.util.*;\\n\\npublic class Main {\\n\\n\\tpublic static void main(String args[]) {\\n\\t\\t// Get the list of blocks\\n\\t\\tList<Block> blocks = readBlocks();\\n\\n\\t\\t// Merge the blocks\\n\\t\\tList<Block> mergedBlocks = mergeBlocks(blocks);\\n\\n\\t\\t// Print the merged blocks\\n\\t\\tprintBlocks(mergedBlocks);\\n\\t}\\n\\n\\t// Problem 1\\n\\t// DO NOT MODIFY THE FUNCTION DECLARATION\\n\\tpublic static List<Block> readBlocks() {\\n\\t\\t// Implement here\\n    List<Block> blocks = new ArrayList<Block>();\\n    Scanner in = new Scanner(System.in);\\n\\n    while (in.hasNextLine()) {\\n      String[] splitted = in.nextLine().split(\" \");\\n      if (splitted.length != 2) {\\n        continue;\\n      }\\n      int start = Integer.parseInt(splitted[0]);\\n      int end = Integer.parseInt(splitted[1]);\\n      Block block = new Block(start, end);\\n      \\n      blocks.add(block);\\n    }\\n    \\n\\t\\treturn blocks;\\n\\t}\\n\\n\\t// Problem 2\\n\\t// DO NOT MODIFY THE FUNCTION DECLARATION\\n\\tpublic static List<Block> mergeBlocks(List<Block> blocks) {\\n  \\t// Implement here\\n\\n  \\t\\n\\t  Collections.sort(blocks, new Comparator<Block>() {\\n        public int compare(Block o1, Block o2) {\\n          if (o1.start != o2.start) {\\n            return o1.start - o2.start;\\n          } else {\\n            return o1.end - o2.end;\\n          }\\n        }\\n    });\\n    \\n\\t\\tList<Block> mergedBlocks = new ArrayList<Block>();\\n\\t\\tfor (Block block : blocks) {\\n\\t\\t  if (mergedBlocks.size() == 0) {\\n\\t\\t    mergedBlocks.add(block);\\n\\t\\t  } else {\\n\\t\\t    Block lastBlock = mergedBlocks.get(mergedBlocks.size() - 1);\\n\\t\\t    if (lastBlock.end >= block.start) {\\n\\t\\t      lastBlock = mergedBlocks.remove(mergedBlocks.size() - 1);\\n\\t\\t      int lastBlockEnd = lastBlock.end;\\n\\t\\t      if (lastBlockEnd < block.end) lastBlockEnd = block.end;\\n\\t\\t      mergedBlocks.add(new Block(lastBlock.start, lastBlockEnd));\\n\\t\\t    } else {\\n\\t\\t      mergedBlocks.add(block);\\n\\t\\t    }\\n\\t\\t  }\\n\\t\\t}\\n\\t\\t\\n\\t\\treturn mergedBlocks;\\n\\t}\\n\\n\\tpublic static void printBlocks(List<Block> blocks) {\\n\\t\\tfor (Block block : blocks) {\\n\\t\\t\\tSystem.out.format(\"[%d - %d]\\\\n\", block.start, block.end);\\n\\t\\t}\\n\\t}\\n}\\n'}},\n",
       " 280: {'commit': (1460013369244, None, True, 125),\n",
       "  'files': {'cs206c/Main.java': 'package cs206c;\\n\\nimport cs206c.Block;\\nimport java.io.*;\\nimport java.util.*;\\n\\npublic class Main {\\n\\n\\tpublic static void main(String args[]) {\\n\\t\\t// Get the list of blocks\\n\\t\\tList<Block> blocks = readBlocks();\\n\\n\\t\\t// Merge the blocks\\n\\t\\tList<Block> mergedBlocks = mergeBlocks(blocks);\\n\\n\\t\\t// Print the merged blocks\\n\\t\\tprintBlocks(mergedBlocks);\\n\\t}\\n\\n\\t// Problem 1\\n\\t// DO NOT MODIFY THE FUNCTION DECLARATION\\n\\tpublic static List<Block> readBlocks() {\\n\\t\\t// Implement here\\n    List<Block> blocks = new ArrayList<Block>();\\n    Scanner in = new Scanner(System.in);\\n\\n    while (in.hasNextLine()) {\\n      String[] splitted = in.nextLine().split(\" \");\\n      if (splitted.length != 2) {\\n        continue;\\n      }\\n      int start = Integer.parseInt(splitted[0]);\\n      int end = Integer.parseInt(splitted[1]);\\n      Block block = new Block(start, end);\\n      \\n      blocks.add(block);\\n    }\\n    \\n\\t\\treturn blocks;\\n\\t}\\n\\n\\t// Problem 2\\n\\t// DO NOT MODIFY THE FUNCTION DECLARATION\\n\\tpublic static List<Block> mergeBlocks(List<Block> blocks) {\\n  \\t// Implement here\\n\\n  \\t\\n\\t  Collections.sort(blocks, new Comparator<Block>() {\\n        public int compare(Block o1, Block o2) {\\n          if (o1.start != o2.start) {\\n            return o1.start - o2.start;\\n          } else {\\n            return o1.end - o2.end;\\n          }\\n        }\\n    });\\n    \\n\\t\\tList<Block> mergedBlocks = new ArrayList<Block>();\\n\\t\\tfor (Block block : blocks) {\\n\\t\\t  if (mergedBlocks.size() == 0) {\\n\\t\\t    mergedBlocks.add(block);\\n\\t\\t  } else {\\n\\t\\t    Block lastBlock = mergedBlocks.get(mergedBlocks.size() - 1);\\n\\t\\t    if (lastBlock.end >= block.start) {\\n\\t\\t      lastBlock = mergedBlocks.remove(mergedBlocks.size() - 1);\\n\\t\\t      int lastBlockEnd = lastBlock.end;\\n\\t\\t      if (lastBlockEnd < block.end) lastBlockEnd = block.end;\\n\\t\\t      mergedBlocks.add(new Block(lastBlock.start, lastBlockEnd));\\n\\t\\t    } else {\\n\\t\\t      mergedBlocks.add(block);\\n\\t\\t    }\\n\\t\\t  }\\n\\t\\t}\\n\\t\\t\\n\\t\\treturn mergedBlocks;\\n\\t}\\n\\n\\tpublic static void printBlocks(List<Block> blocks) {\\n\\t\\tfor (Block block : blocks) {\\n\\t\\t\\tSystem.out.format(\"[%d - %d]\\\\n\", block.start, block.end);\\n\\t\\t}\\n\\t}\\n}\\n'}},\n",
       " 307: {'commit': (1460019502616, None, True, 0),\n",
       "  'files': {'cs206c/Main.java': 'package cs206c;\\n\\nimport cs206c.Block;\\nimport java.io.*;\\nimport java.util.*;\\n\\npublic class Main {\\n\\n\\tpublic static void main(String args[]) {\\n\\t\\t// Get the list of blocks\\n\\t\\tList<Block> blocks = readBlocks();\\n\\n\\t\\t// Merge the blocks\\n\\t\\tList<Block> mergedBlocks = mergeBlocks(blocks);\\n\\n\\t\\t// Print the merged blocks\\n\\t\\tprintBlocks(mergedBlocks);\\n\\t}\\n\\n\\t// Problem 1\\n\\t// DO NOT MODIFY THE FUNCTION DECLARATION\\n\\tpublic static List<Block> readBlocks() {\\n\\t\\t// Implement here\\n    List<Block> blocks = new ArrayList<Block>();\\n    Scanner in = new Scanner(System.in);\\n\\n    while (in.hasNextLine()) {\\n      String[] splitted = in.nextLine().split(\" \");\\n      if (splitted.length != 2) {\\n        continue;\\n      }\\n      int start = Integer.parseInt(splitted[0]);\\n      int end = Integer.parseInt(splitted[1]);\\n      Block block = new Block(start, end);\\n      \\n      blocks.add(block);\\n    }\\n    \\n\\t\\treturn blocks;\\n\\t}\\n\\n\\t// Problem 2\\n\\t// DO NOT MODIFY THE FUNCTION DECLARATION\\n\\tpublic static List<Block> mergeBlocks(List<Block> blocks) {\\n  \\t// Implement here\\n\\n  \\t\\n\\t  Collections.sort(blocks, new Comparator<Block>() {\\n        public int compare(Block o1, Block o2) {\\n          if (o1.start != o2.start) {\\n            return o1.start - o2.start;\\n          } else {\\n            return o1.end - o2.end;\\n          }\\n        }\\n    });\\n    \\n\\t\\tList<Block> mergedBlocks = new ArrayList<Block>();\\n\\t\\tfor (Block block : blocks) {\\n\\t\\t  if (mergedBlocks.size() == 0) {\\n\\t\\t    mergedBlocks.add(block);\\n\\t\\t  } else {\\n\\t\\t    Block lastBlock = mergedBlocks.get(mergedBlocks.size() - 1);\\n\\t\\t    if (lastBlock.end >= block.start) {\\n\\t\\t      lastBlock = mergedBlocks.remove(mergedBlocks.size() - 1);\\n\\t\\t      int lastBlockEnd = lastBlock.end;\\n\\t\\t      if (lastBlockEnd < block.end) lastBlockEnd = block.end;\\n\\t\\t      mergedBlocks.add(new Block(lastBlock.start, lastBlockEnd));\\n\\t\\t    } else {\\n\\t\\t      mergedBlocks.add(block);\\n\\t\\t    }\\n\\t\\t  }\\n\\t\\t}\\n\\t\\t\\n\\t\\treturn mergedBlocks;\\n\\t}\\n\\n\\tpublic static void printBlocks(List<Block> blocks) {\\n\\t\\tfor (Block block : blocks) {\\n\\t\\t\\tSystem.out.format(\"[%d - %d]\\\\n\", block.start, block.end);\\n\\t\\t}\\n\\t}\\n}\\n'}},\n",
       " 310: {'commit': (1460019522561, None, True, 0),\n",
       "  'files': {'cs206c/Main.java': 'package cs206c;\\n\\nimport cs206c.Block;\\nimport java.io.*;\\nimport java.util.*;\\n\\npublic class Main {\\n\\n\\tpublic static void main(String args[]) {\\n\\t\\t// Get the list of blocks\\n\\t\\tList<Block> blocks = readBlocks();\\n\\n\\t\\t// Merge the blocks\\n\\t\\tList<Block> mergedBlocks = mergeBlocks(blocks);\\n\\n\\t\\t// Print the merged blocks\\n\\t\\tprintBlocks(mergedBlocks);\\n\\t}\\n\\n\\t// Problem 1\\n\\t// DO NOT MODIFY THE FUNCTION DECLARATION\\n\\tpublic static List<Block> readBlocks() {\\n\\t\\t// Implement here\\n    List<Block> blocks = new ArrayList<Block>();\\n    Scanner in = new Scanner(System.in);\\n\\n    while (in.hasNextLine()) {\\n      String[] splitted = in.nextLine().split(\" \");\\n      if (splitted.length != 2) {\\n        continue;\\n      }\\n      int start = Integer.parseInt(splitted[0]);\\n      int end = Integer.parseInt(splitted[1]);\\n      Block block = new Block(start, end);\\n      \\n      blocks.add(block);\\n    }\\n    \\n\\t\\treturn blocks;\\n\\t}\\n\\n\\t// Problem 2\\n\\t// DO NOT MODIFY THE FUNCTION DECLARATION\\n\\tpublic static List<Block> mergeBlocks(List<Block> blocks) {\\n  \\t// Implement here\\n\\n  \\t\\n\\t  Collections.sort(blocks, new Comparator<Block>() {\\n        public int compare(Block o1, Block o2) {\\n          if (o1.start != o2.start) {\\n            return o1.start - o2.start;\\n          } else {\\n            return o1.end - o2.end;\\n          }\\n        }\\n    });\\n    \\n\\t\\tList<Block> mergedBlocks = new ArrayList<Block>();\\n\\t\\tfor (Block block : blocks) {\\n\\t\\t  if (mergedBlocks.size() == 0) {\\n\\t\\t    mergedBlocks.add(block);\\n\\t\\t  } else {\\n\\t\\t    Block lastBlock = mergedBlocks.get(mergedBlocks.size() - 1);\\n\\t\\t    if (lastBlock.end >= block.start) {\\n\\t\\t      lastBlock = mergedBlocks.remove(mergedBlocks.size() - 1);\\n\\t\\t      int lastBlockEnd = lastBlock.end;\\n\\t\\t      if (lastBlockEnd < block.end) lastBlockEnd = block.end;\\n\\t\\t      mergedBlocks.add(new Block(lastBlock.start, lastBlockEnd));\\n\\t\\t    } else {\\n\\t\\t      mergedBlocks.add(block);\\n\\t\\t    }\\n\\t\\t  }\\n\\t\\t}\\n\\t\\t\\n\\t\\treturn mergedBlocks;\\n\\t}\\n\\n\\tpublic static void printBlocks(List<Block> blocks) {\\n\\t\\tfor (Block block : blocks) {\\n\\t\\t\\tSystem.out.format(\"[%d - %d]\\\\n\", block.start, block.end);\\n\\t\\t}\\n\\t}\\n}\\n'}},\n",
       " 314: {'commit': (1467737852292, '', False, None),\n",
       "  'files': {'cs206c/Main.java': 'package cs206c;\\n\\nimport cs206c.Block;\\nimport java.io.*;\\nimport java.util.*;\\n\\npublic class Main {\\n\\n\\tpublic static void main(String args[]) {\\n\\t\\t// Get the list of blocks\\n\\t\\tList<Block> blocks = readBlocks();\\n\\n\\t\\t// Merge the blocks\\n\\t\\tList<Block> mergedBlocks = mergeBlocks(blocks);\\n\\n\\t\\t// Print the merged blocks\\n\\t\\tprintBlocks(mergedBlocks);\\n\\t}\\n\\n\\t// Problem 1\\n\\t// DO NOT MODIFY THE FUNCTION DECLARATION\\n\\tpublic static List<Block> readBlocks() {\\n\\t\\t// Implement here\\n    List<Block> blocks = new ArrayList<Block>();\\n    Scanner in = new Scanner(System.in);\\n\\n    while (in.hasNextLine()) {\\n      String[] splitted = in.nextLine().split(\" \");\\n      if (splitted.length != 2) {\\n        continue;\\n      }\\n      int start = Integer.parseInt(splitted[0]);\\n      int end = Integer.parseInt(splitted[1]);\\n      Block block = new Block(start, end);\\n      \\n      blocks.add(block);\\n    }\\n    \\n\\t\\treturn blocks;\\n\\t}\\n\\n\\t// Problem 2\\n\\t// DO NOT MODIFY THE FUNCTION DECLARATION\\n\\tpublic static List<Block> mergeBlocks(List<Block> blocks) {\\n  \\t// Implement here\\n\\n  \\t\\n\\t  Collections.sort(blocks, new Comparator<Block>() {\\n        public int compare(Block o1, Block o2) {\\n          if (o1.start != o2.start) {\\n            return o1.start - o2.start;\\n          } else {\\n            return o1.end - o2.end;\\n          }\\n        }\\n    });\\n    \\n\\t\\tList<Block> mergedBlocks = new ArrayList<Block>();\\n\\t\\tfor (Block block : blocks) {\\n\\t\\t  if (mergedBlocks.size() == 0) {\\n\\t\\t    mergedBlocks.add(block);\\n\\t\\t  } else {\\n\\t\\t    Block lastBlock = mergedBlocks.get(mergedBlocks.size() - 1);\\n\\t\\t    if (lastBlock.end >= block.start) {\\n\\t\\t      lastBlock = mergedBlocks.remove(mergedBlocks.size() - 1);\\n\\t\\t      int lastBlockEnd = lastBlock.end;\\n\\t\\t      if (lastBlockEnd < block.end) lastBlockEnd = block.end;\\n\\t\\t      mergedBlocks.add(new Block(lastBlock.start, lastBlockEnd));\\n\\t\\t    } else {\\n\\t\\t      mergedBlocks.add(block);\\n\\t\\t    }\\n\\t\\t  }\\n\\t\\t}\\n\\t\\t\\n\\t\\treturn mergedBlocks;\\n\\t}\\n\\n\\tpublic static void printBlocks(List<Block> blocks) {\\n\\t\\tfor (Block block : blocks) {\\n\\t\\t\\tSystem.out.format(\"[%d - %d]\\\\n\", block.start, block.end);\\n\\t\\t}\\n\\t}\\n}\\n'}}}"
      ]
     },
     "execution_count": 12,
     "metadata": {},
     "output_type": "execute_result"
    }
   ],
   "source": [
    "global_user_files[config.COURSE['lecture_id']][config.COURSE['material_exercise_id']][3]"
   ]
  },
  {
   "cell_type": "code",
   "execution_count": 15,
   "metadata": {
    "collapsed": false
   },
   "outputs": [],
   "source": [
    "with open(\"../2016_codeclustering/student_commit_files.json\", \"w\") as fp:\n",
    "    json.dump(global_user_files, fp)"
   ]
  },
  {
   "cell_type": "code",
   "execution_count": null,
   "metadata": {
    "collapsed": true
   },
   "outputs": [],
   "source": []
  }
 ],
 "metadata": {
  "kernelspec": {
   "display_name": "Python 3",
   "language": "python",
   "name": "python3"
  },
  "language_info": {
   "codemirror_mode": {
    "name": "ipython",
    "version": 3
   },
   "file_extension": ".py",
   "mimetype": "text/x-python",
   "name": "python",
   "nbconvert_exporter": "python",
   "pygments_lexer": "ipython3",
   "version": "3.5.1+"
  }
 },
 "nbformat": 4,
 "nbformat_minor": 0
}
